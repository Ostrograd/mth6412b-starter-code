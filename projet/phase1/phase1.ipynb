{
 "cells": [
  {
   "cell_type": "markdown",
   "metadata": {},
   "source": [
    "Antoine Demers-Bergeron et Joseph Thompson\n",
    "\n",
    "Le code est disponible ici : https://github.com/Ostrograd/mth6412b-starter-code/tree/phase1"
   ]
  },
  {
   "cell_type": "markdown",
   "metadata": {},
   "source": [
    "# Phase 1 du Project"
   ]
  },
  {
   "cell_type": "code",
   "execution_count": 8,
   "metadata": {},
   "outputs": [
    {
     "data": {
      "text/plain": [
       "plot_graph"
      ]
     },
     "metadata": {},
     "output_type": "display_data"
    }
   ],
   "source": [
    "include(\"node.jl\")\n",
    "include(\"edges.jl\")\n",
    "include(\"graph.jl\")\n",
    "include(\"read_stsp.jl\")"
   ]
  },
  {
   "cell_type": "markdown",
   "metadata": {},
   "source": [
    "## Partie 1, creation d'un objet Edge\n",
    "Nous avons créé un nouvel objet edge et les méthodes correspondantes dans edges.jl. Nous avons défini une arête comme un objet défini par deux nœuds et un poids. Nous avons décidé que les deux nœuds étaient suffisants pour identifier l'arête, car nous supposons que le graphe ne sera pas un multi-graphe. Nous avons décidé qu'il serait utile d'incorporer le nœud entier, et pas seulement le nom du nœud pour la définition d'une arête, afin de pouvoir accéder facilement à l'information sur le nœud. Le poids peut être de n'importe quel type de données.\n",
    "\n"
   ]
  },
  {
   "cell_type": "code",
   "execution_count": 9,
   "metadata": {},
   "outputs": [
    {
     "name": "stdout",
     "output_type": "stream",
     "text": [
      "Arête de 1 à 2, poids: 3\n"
     ]
    }
   ],
   "source": [
    "node1 = Node(\"1\", 1)\n",
    "node2 = Node(\"2\", 2)\n",
    "edge = Edge(node1, node2, 3)\n",
    "show(edge)\n"
   ]
  },
  {
   "cell_type": "markdown",
   "metadata": {},
   "source": [
    "## Partie 2 - Inclusion des Edges dans un objet Graph\n",
    "\n",
    "Dans cette section, nous avons modifié graph.jl pour ajouter des arêtes. L'objet graph nécessite un nom, des nœuds et des arêtes lors de son initialisation."
   ]
  },
  {
   "cell_type": "code",
   "execution_count": 10,
   "metadata": {},
   "outputs": [
    {
     "name": "stdout",
     "output_type": "stream",
     "text": [
      "Graph graphe1 has 2 nodes.\n",
      "Node 1, data: 1\n",
      "Node 2, data: 2\n",
      "Graph graphe1 has 1 edges.\n",
      "Arête de 1 à 2, poids: 3\n"
     ]
    }
   ],
   "source": [
    "graphe = Graph(\"graphe1\",Node{Int}[],Edge{Int,Int}[])\n",
    "add_node!(graphe, node1)\n",
    "add_node!(graphe, node2)\n",
    "add_edge!(graphe, edge)\n",
    "show(graphe)"
   ]
  },
  {
   "cell_type": "markdown",
   "metadata": {},
   "source": [
    "Nous permettons également à l'utilisateur d'ajouter des arêtes qui n'ont pas de nœuds dans le graphe. Un avertissement est alors émis. Cela réduit le nombre de commandes que l'utilisateur doit effectuer pour créer un graphe."
   ]
  },
  {
   "cell_type": "code",
   "execution_count": 11,
   "metadata": {},
   "outputs": [
    {
     "name": "stdout",
     "output_type": "stream",
     "text": [
      "Graph graphe1 has 4 nodes.\n",
      "Node 1, data: 1\n",
      "Node 2, data: 2\n",
      "Node 3, data: 0\n",
      "Node 4, data: 1\n",
      "Graph graphe1 has 2 edges.\n",
      "Arête de 1 à 2, poids: 3\n",
      "Arête de 3 à 4, poids: 0\n"
     ]
    }
   ],
   "source": [
    "node3 = Node(\"3\",0)\n",
    "node4 = Node(\"4\", 1)\n",
    "edge = Edge(node3, node4, 0)\n",
    "add_edge!(graphe, edge)\n",
    "show(graphe)"
   ]
  },
  {
   "cell_type": "markdown",
   "metadata": {},
   "source": [
    "Nous avons supposé que les noms de nœuds sont uniques dans un graphe et nous avons créé une fonction d'aide qui renvoie tous les noms de nœuds."
   ]
  },
  {
   "cell_type": "code",
   "execution_count": 12,
   "metadata": {},
   "outputs": [
    {
     "data": {
      "text/plain": [
       "4-element Vector{Any}:\n",
       " \"1\"\n",
       " \"2\"\n",
       " \"3\"\n",
       " \"4\""
      ]
     },
     "metadata": {},
     "output_type": "display_data"
    }
   ],
   "source": [
    "nodes_names(graphe)"
   ]
  },
  {
   "cell_type": "markdown",
   "metadata": {},
   "source": [
    "Nous avons utilisé show() précédemment. Nous avons décidé de faire en sorte que la fonction énumère d'abord les nœuds, puis les arêtes."
   ]
  },
  {
   "cell_type": "code",
   "execution_count": 13,
   "metadata": {},
   "outputs": [
    {
     "name": "stdout",
     "output_type": "stream",
     "text": [
      "Graph graphe1 has 4 nodes.\n",
      "Node 1, data: 1\n",
      "Node 2, data: 2\n",
      "Node 3, data: 0\n",
      "Node 4, data: 1\n",
      "Graph graphe1 has 2 edges.\n",
      "Arête de 1 à 2, poids: 3\n",
      "Arête de 3 à 4, poids: 0\n"
     ]
    }
   ],
   "source": [
    "show(graphe)"
   ]
  },
  {
   "cell_type": "markdown",
   "metadata": {},
   "source": [
    "## Partie 3 : Extension de la fonction read_edges() pour lire les poids des arêtes.\n",
    "\n",
    "\n",
    "Nous avons ajouté à chaque *edge* une troisième composante de la façon suivante :\n",
    "\n",
    "`edge = (k+1, i+k+2, parse(Int,data[j+1]))`\n",
    "\n",
    "Comme *data* est la liste de tous les poids dans la ligne et comme *j* prends des valeurs allant de 0 au nombre de valeurs sur la ligne -1, `data[j+1]` donne le poids associé à l'arête observée. Nous avons ajouté un `parse` puisque les valeurs dans `data` sont de type `String`.\n",
    "\n",
    "Nous avons également ajouté le tableau contenant toutes les arêtes ainsi que leur poids (`edges_brut`) en sortie de la fonction `read_stsp()` pour que toute l'information sur le graphe soit plus facilement accessible par l'utilisateur.\n"
   ]
  },
  {
   "cell_type": "markdown",
   "metadata": {},
   "source": [
    "## Part 4 : Programme principal qui lit un fichier TSP et qui construit l'objet graphe correspondant. \n",
    "\n",
    "Le code complet (*main.jl*) est :"
   ]
  },
  {
   "cell_type": "code",
   "execution_count": 14,
   "metadata": {},
   "outputs": [
    {
     "name": "stdout",
     "output_type": "stream",
     "text": [
      "Reading of header : ✓\n",
      "Reading of nodes : ✓\n",
      "Reading of edges : ✓\n"
     ]
    },
    {
     "data": {
      "text/plain": [
       "Graph{Int64, Int64}(\"graphe1\", Node{Int64}[Node{Int64}(\"1\", 0), Node{Int64}(\"2\", 0), Node{Int64}(\"3\", 0), Node{Int64}(\"4\", 0), Node{Int64}(\"5\", 0), Node{Int64}(\"6\", 0), Node{Int64}(\"7\", 0), Node{Int64}(\"8\", 0), Node{Int64}(\"9\", 0), Node{Int64}(\"10\", 0)  …  Node{Int64}(\"20\", 0), Node{Int64}(\"21\", 0), Node{Int64}(\"22\", 0), Node{Int64}(\"23\", 0), Node{Int64}(\"24\", 0), Node{Int64}(\"25\", 0), Node{Int64}(\"26\", 0), Node{Int64}(\"27\", 0), Node{Int64}(\"28\", 0), Node{Int64}(\"29\", 0)], Edge{Int64, Int64}[Edge{Int64, Int64}(Node{Int64}(\"1\", 0), Node{Int64}(\"1\", 0), 0), Edge{Int64, Int64}(Node{Int64}(\"1\", 0), Node{Int64}(\"2\", 0), 107), Edge{Int64, Int64}(Node{Int64}(\"1\", 0), Node{Int64}(\"3\", 0), 241), Edge{Int64, Int64}(Node{Int64}(\"1\", 0), Node{Int64}(\"4\", 0), 190), Edge{Int64, Int64}(Node{Int64}(\"1\", 0), Node{Int64}(\"5\", 0), 124), Edge{Int64, Int64}(Node{Int64}(\"1\", 0), Node{Int64}(\"6\", 0), 80), Edge{Int64, Int64}(Node{Int64}(\"1\", 0), Node{Int64}(\"7\", 0), 316), Edge{Int64, Int64}(Node{Int64}(\"1\", 0), Node{Int64}(\"8\", 0), 76), Edge{Int64, Int64}(Node{Int64}(\"1\", 0), Node{Int64}(\"9\", 0), 152), Edge{Int64, Int64}(Node{Int64}(\"1\", 0), Node{Int64}(\"10\", 0), 157)  …  Edge{Int64, Int64}(Node{Int64}(\"29\", 0), Node{Int64}(\"20\", 0), 135), Edge{Int64, Int64}(Node{Int64}(\"29\", 0), Node{Int64}(\"21\", 0), 108), Edge{Int64, Int64}(Node{Int64}(\"29\", 0), Node{Int64}(\"22\", 0), 332), Edge{Int64, Int64}(Node{Int64}(\"29\", 0), Node{Int64}(\"23\", 0), 342), Edge{Int64, Int64}(Node{Int64}(\"29\", 0), Node{Int64}(\"24\", 0), 218), Edge{Int64, Int64}(Node{Int64}(\"29\", 0), Node{Int64}(\"25\", 0), 350), Edge{Int64, Int64}(Node{Int64}(\"29\", 0), Node{Int64}(\"26\", 0), 39), Edge{Int64, Int64}(Node{Int64}(\"29\", 0), Node{Int64}(\"27\", 0), 263), Edge{Int64, Int64}(Node{Int64}(\"29\", 0), Node{Int64}(\"28\", 0), 199), Edge{Int64, Int64}(Node{Int64}(\"29\", 0), Node{Int64}(\"29\", 0), 0)])"
      ]
     },
     "metadata": {},
     "output_type": "display_data"
    }
   ],
   "source": [
    "## Importations\n",
    "include(\"node.jl\")\n",
    "include(\"edges.jl\")\n",
    "include(\"graph.jl\")\n",
    "include(\"read_stsp.jl\")\n",
    "\n",
    "##Code Principal\n",
    "\n",
    "function graph_from_tsp(path::String,name::String) \n",
    "\n",
    "    graph_nodes, graph_edges, edges_weight_brut = read_stsp(path)\n",
    "\n",
    "    graphe = Graph(name,Node{Int}[],Edge{Int,Int}[])  #Création d'un graphe vide\n",
    "\n",
    "    for edge in edges_weight_brut      ##Ajout des arêtes et des noeuds un par un\n",
    "        node1 = Node(string(edge[1]),0)\n",
    "        node2 = Node(string(edge[2]),0)\n",
    "        edge_brut = Edge(node1,node2,edge[3])\n",
    "\n",
    "        add_edge!(graphe,edge_brut)\n",
    "    end\n",
    "\n",
    "    graphe\n",
    "end\n",
    "\n",
    "graphe = graph_from_tsp(\"../../instances\\\\stsp\\\\bays29.tsp\",\"graphe1\")\n",
    "\n",
    "#show(graphe)"
   ]
  },
  {
   "cell_type": "markdown",
   "metadata": {},
   "source": [
    "En sortie du code ci-dessus, on aurait normalement 29 lignes de la forme :\n",
    "\n",
    " `@warn \"Le noeud\",edge.node1.name,\" n'était pas dans le graphe. Il a été ajouté.\"`\n",
    "\n",
    "mais nous les avons commenté ici pour éviter d'avoir une page complète de lignes d'avertissement.\n",
    "\n",
    "Nous avons créé une fonction `graph_from_tsp` qui prend en arguments le chemin vers le fichier .tsp et le nom de graphe à créer et qui fonctionne de la façon suivante : \n",
    "\n",
    "  La fonction `read_stsp()` lit le fichier TSP et garde en mémoire les noeuds(`graph_nodes`), les arêtes (`graph_edges`) et la liste complète des arêtes et de leurs poids (`edges_weight_brut`).\n",
    "\n",
    "  On crée ensuite un objet `Graph` vide, puis on utilise `edges_weight_brut` pour créer un objet `Node` pour chaque noeud du graphe ainsi qu'un objet `Edge` pour chaque arête du graphe. On ajoute ensuite toutes les arêtes au graphe une par une. Comme notre fonction `add_edge!()` ajoute aussi les noeuds correspondants, tous les noeuds sont aussi ajoutés au graphe. "
   ]
  }
 ],
 "metadata": {
  "kernelspec": {
   "display_name": "Julia 1.9.3",
   "language": "julia",
   "name": "julia-1.9"
  },
  "language_info": {
   "file_extension": ".jl",
   "mimetype": "application/julia",
   "name": "julia",
   "version": "1.9.3"
  },
  "orig_nbformat": 4
 },
 "nbformat": 4,
 "nbformat_minor": 2
}
