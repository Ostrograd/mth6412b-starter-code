{
 "cells": [
  {
   "cell_type": "markdown",
   "metadata": {},
   "source": [
    "# Phase 1 du Project"
   ]
  },
  {
   "cell_type": "code",
   "execution_count": 1,
   "metadata": {},
   "outputs": [
    {
     "data": {
      "text/plain": [
       "plot_graph"
      ]
     },
     "metadata": {},
     "output_type": "display_data"
    }
   ],
   "source": [
    "include(\"node.jl\")\n",
    "include(\"edges.jl\")\n",
    "include(\"graph.jl\")\n",
    "include(\"read_stsp.jl\")"
   ]
  },
  {
   "cell_type": "markdown",
   "metadata": {},
   "source": [
    "## Part 1, creation d'un objet Edge\n",
    "Nous avons créé un nouvel objet edge et les méthodes correspondantes dans edges.jl. Nous avons défini une arête comme un objet défini par deux nœuds et un poids. Nous avons décidé que les deux nœuds étaient suffisants pour identifier l'arête, car nous supposons que le graphe ne sera pas un multi-graphe. Nous avons décidé qu'il serait utile d'incorporer le nœud entier, et pas seulement le nom du nœud pour la définition d'une arête, afin de pouvoir accéder facilement à l'information sur le nœud. Le poids peut être de n'importe quel type de données.\n",
    "\n"
   ]
  },
  {
   "cell_type": "code",
   "execution_count": 2,
   "metadata": {},
   "outputs": [
    {
     "name": "stdout",
     "output_type": "stream",
     "text": [
      "Arête de 1 à 2, poids: 3\n"
     ]
    }
   ],
   "source": [
    "node1 = Node(\"1\", 1)\n",
    "node2 = Node(\"2\", 2)\n",
    "edge = Edge(node1, node2, 3)\n",
    "show(edge)\n"
   ]
  },
  {
   "cell_type": "markdown",
   "metadata": {},
   "source": [
    "## Part 2 - Inclusion des Edges dans un objet Graph\n",
    "\n",
    "Dans cette section, nous avons modifié graph.jl pour ajouter des arêtes. L'objet graph nécessite un nom, des nœuds et des arêtes lors de son initialisation."
   ]
  },
  {
   "cell_type": "code",
   "execution_count": 3,
   "metadata": {},
   "outputs": [
    {
     "name": "stdout",
     "output_type": "stream",
     "text": [
      "Graph graphe1 has 2 nodes.\n",
      "Node 1, data: 1\n",
      "Node 2, data: 2\n",
      "Graph graphe1 has 1 edges.\n",
      "Arête de 1 à 2, poids: 3\n"
     ]
    }
   ],
   "source": [
    "graphe = Graph(\"graphe1\",Node{Int}[],Edge{Int,Int}[])\n",
    "add_node!(graphe, node1)\n",
    "add_node!(graphe, node2)\n",
    "add_edge!(graphe, edge)\n",
    "show(graphe)"
   ]
  },
  {
   "cell_type": "markdown",
   "metadata": {},
   "source": [
    "Nous permettons également à l'utilisateur d'ajouter des arêtes qui n'ont pas de nœuds dans le graphe. Un avertissement est alors émis. Cela réduit le nombre de commandes que l'utilisateur doit effectuer pour créer un graphe."
   ]
  },
  {
   "cell_type": "code",
   "execution_count": 4,
   "metadata": {},
   "outputs": [
    {
     "name": "stdout",
     "output_type": "stream",
     "text": [
      "Graph graphe1 has 4 nodes.\n",
      "Node 1, data: 1\n",
      "Node 2, data: 2\n",
      "Node 3, data: 0\n",
      "Node 4, data: 1\n",
      "Graph graphe1 has 2 edges.\n",
      "Arête de 1 à 2, poids: 3\n",
      "Arête de 3 à 4, poids: 0\n"
     ]
    },
    {
     "name": "stderr",
     "output_type": "stream",
     "text": [
      "┌ Warning: (\"Le noeud\", \"3\", \" n'était pas dans le graphe. Il a été ajouté.\")\n",
      "└ @ Main /Users/letshopethisworks2/Documents/Phd docs/algo_class/mth6412b-starter-code/projet/phase1/graph.jl:35\n",
      "┌ Warning: (\"Le noeud\", \"4\", \" n'était pas dans le graphe. Il a été ajouté.\")\n",
      "└ @ Main /Users/letshopethisworks2/Documents/Phd docs/algo_class/mth6412b-starter-code/projet/phase1/graph.jl:39\n"
     ]
    }
   ],
   "source": [
    "node3 = Node(\"3\",0)\n",
    "node4 = Node(\"4\", 1)\n",
    "edge = Edge(node3, node4, 0)\n",
    "add_edge!(graphe, edge)\n",
    "show(graphe)"
   ]
  },
  {
   "cell_type": "markdown",
   "metadata": {},
   "source": [
    "Nous avons supposé que les noms de nœuds sont uniques dans un graphe et nous avons créé une fonction d'aide qui renvoie tous les noms de nœuds."
   ]
  },
  {
   "cell_type": "code",
   "execution_count": 5,
   "metadata": {},
   "outputs": [
    {
     "data": {
      "text/plain": [
       "4-element Vector{Any}:\n",
       " \"1\"\n",
       " \"2\"\n",
       " \"3\"\n",
       " \"4\""
      ]
     },
     "metadata": {},
     "output_type": "display_data"
    }
   ],
   "source": [
    "nodes_names(graphe)"
   ]
  },
  {
   "cell_type": "markdown",
   "metadata": {},
   "source": [
    "Nous avons utilisé show() précédemment. Nous avons décidé de faire en sorte que la fonction énumère d'abord les nœuds, puis les arêtes."
   ]
  },
  {
   "cell_type": "code",
   "execution_count": 6,
   "metadata": {},
   "outputs": [
    {
     "name": "stdout",
     "output_type": "stream",
     "text": [
      "Graph graphe1 has 4 nodes.\n",
      "Node 1, data: 1\n",
      "Node 2, data: 2\n",
      "Node 3, data: 0\n",
      "Node 4, data: 1\n",
      "Graph graphe1 has 2 edges.\n",
      "Arête de 1 à 2, poids: 3\n",
      "Arête de 3 à 4, poids: 0\n"
     ]
    }
   ],
   "source": [
    "show(graphe)"
   ]
  }
 ],
 "metadata": {
  "kernelspec": {
   "display_name": "Julia 1.9.3",
   "language": "julia",
   "name": "julia-1.9"
  },
  "language_info": {
   "file_extension": ".jl",
   "mimetype": "application/julia",
   "name": "julia",
   "version": "1.9.3"
  },
  "orig_nbformat": 4
 },
 "nbformat": 4,
 "nbformat_minor": 2
}
