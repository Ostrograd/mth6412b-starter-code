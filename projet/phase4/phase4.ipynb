{
 "cells": [
  {
   "cell_type": "markdown",
   "metadata": {},
   "source": [
    "# Projet de session : Phase 4 - Antoine Demers-Bergeron et Joseph Thompson\n"
   ]
  },
  {
   "cell_type": "markdown",
   "metadata": {},
   "source": [
    "## Nouvelles fonctions implémentées"
   ]
  },
  {
   "cell_type": "markdown",
   "metadata": {},
   "source": [
    "Pour commencer, nous avons implémenté différentes fonctions pour nous permettre de reconstruire les images.\n",
    "\n",
    "Premièrement, nous avons vite remarqué que simplement utiliser l'algorithme de RSL ne serait pas suffisant. En effet, nos premiers tests en utilisant bêtement cet algorithme n'arrivaient tout simplement pas à reconstruire l'image. Nous avons donc implémenté une fonction qui applique l'algorithme de RSL sur un graphe avec l'algorithme de Prim en testant différents sommets de départ choisis au hasard et qui renvoie la meilleure solution trouvée. \n",
    "\n",
    "Nous avons décidé de tester sur un nombre restreints de sommets choisis au hasard simplement pour améliorer nos chances de trouver la meilleure solution. Itérer sur tous les sommets comme on le faisait dans la phase 3 était trop coûteux en temps. C'est pourquoi nous avons choisi cette approche."
   ]
  },
  {
   "cell_type": "code",
   "execution_count": null,
   "metadata": {},
   "outputs": [],
   "source": [
    "\"\"\"Teste (nbr_of_tests) sommets comme sommets de départ pour rsl avec l'algorithme de Prim et renvoie la meilleure solution trouvée\"\"\"\n",
    "function semi_optimal_rsl(start_graph::Graph{Y,T}, nbr_of_tests::Int64) where {Y,T}\n",
    "    optimal_cycle_length = Inf64\n",
    "    optimal_cycle = 0\n",
    "    optimal_method = \"0\"\n",
    "    optimal_start_node = 0\n",
    "    optimal_nodes_list = []\n",
    "    \n",
    "    nodes_to_try = rand(1:length(nodes(start_graph)), nbr_of_tests)\n",
    "    for method_name in [\"Prim\"]\n",
    "        println(\"Testing with \",method_name)\n",
    "        \n",
    "        for start_node_index in nodes_to_try\n",
    "            println(\"Testing with node :\", start_node_index)\n",
    "            start_node = nodes(start_graph)[start_node_index]\n",
    "            graph = deepcopy(start_graph)\n",
    "            cycle, nodes_list = rsl(graph, start_node, method_name)\n",
    "            value = sum_of_weights(cycle)\n",
    "            \n",
    "            if value < optimal_cycle_length\n",
    "                \n",
    "                optimal_cycle_length = value\n",
    "                optimal_cycle = cycle\n",
    "                optimal_method = method_name\n",
    "                optimal_start_node = start_node\n",
    "                optimal_nodes_list = nodes_list\n",
    "            end\n",
    "\n",
    "        end\n",
    "\n",
    "    end\n",
    "    println(\"La meilleure tournée que l'on peut trouver avec RSL est de longueur : \",optimal_cycle_length, \"\\nElle est obtenue à l'aide de l'algorithme de \",optimal_method,\" avec \\\n",
    "     \", optimal_start_node.name, \" comme racine.\")\n",
    "\n",
    "    return optimal_cycle, optimal_nodes_list\n",
    "end"
   ]
  },
  {
   "cell_type": "markdown",
   "metadata": {},
   "source": [
    "Ces ajouts n'étaient pas suffisants pour bien reconstruire l'image, donc nous avons implémenté l'algorithme 2-opt pour améliorer la solution initiale trouvée. L'algorithme va effectuer des permutations dans l'ordre de la tournée de façon à ce que chaque permutation réduise le coût total de la tournée. On procède de la façon suivante : DÉCRIRE TWO_OPT"
   ]
  },
  {
   "cell_type": "code",
   "execution_count": null,
   "metadata": {},
   "outputs": [],
   "source": []
  },
  {
   "cell_type": "markdown",
   "metadata": {},
   "source": [
    "Avec ces outils ainsi que les fonctions fournies dans le fichier *tools.jl*, nous avons implémenté une fonction qui prend en entrée l'image mélangée ainsi que le fichier tsp correspondant et qui reconstruit l'image."
   ]
  },
  {
   "cell_type": "code",
   "execution_count": 6,
   "metadata": {},
   "outputs": [
    {
     "data": {
      "text/plain": [
       "shuffled_image_to_reconstruct (generic function with 2 methods)"
      ]
     },
     "metadata": {},
     "output_type": "display_data"
    }
   ],
   "source": [
    "function shuffled_image_to_reconstruct(tsp_file::String,shuffled_image::String, new_image_name::String, nbr_of_tests::Int64 = 5)\n",
    "    graph = graph_from_tsp(tsp_file,\"graphe\")[1]\n",
    "    println(\"Calculating a tour\")\n",
    "   \n",
    "    cycle, nodes_list = semi_optimal_rsl(graph, nbr_of_tests)   #Calcule une solution initiale\n",
    "    println(\"rsl finished with cost \", sum_of_weights(cycle))\n",
    "    tour_indexes = Vector{Int64}([])\n",
    "    for node in nodes_list\n",
    "        push!(tour_indexes, index(node))\n",
    "    end\n",
    "    println(\"running two opt\")\n",
    "    @time two_opt_cycle_graph, two_opt_cycle, two_opt_cost = run_two_opt(graph,cycle, tour_indexes, iter_stop = 3000) #Améliore la solution optimale\n",
    "    \n",
    "    one_index = findfirst(x -> x==1,two_opt_cycle)\n",
    "    two_opt_cycle_mod = [two_opt_cycle[one_index:end] ; two_opt_cycle[1:one_index-1]]    #Réécrit la tournée avec le sommet 1 comme premier sommet\n",
    "    \n",
    "    nodes_index_list = two_opt_cycle_mod .- 1\n",
    "    println(\"2 opt finished with cost \", sum_of_weights(two_opt_cycle_graph))\n",
    "    \n",
    "    \n",
    "    tour = new_image_name * \".tour\"\n",
    "    write_tour(tour,nodes_index_list, sum_of_weights(two_opt_cycle_graph))\n",
    "    \n",
    "    reconstruct_picture(tour, shuffled_image, new_image_name * \"-reconstruit.png\",view = true)\n",
    "end"
   ]
  },
  {
   "cell_type": "markdown",
   "metadata": {},
   "source": [
    "## Tests"
   ]
  },
  {
   "cell_type": "markdown",
   "metadata": {},
   "source": [
    "On peut tester cette dernières fonction sur différentes images. Voici les résultats : "
   ]
  },
  {
   "cell_type": "code",
   "execution_count": 7,
   "metadata": {},
   "outputs": [],
   "source": [
    "#shuffled_image_to_reconstruct(\"instances/tsp/instances/alaska-railroad.tsp\",\"instances/images/shuffled/alaska-railroad.png\",\"Train\")"
   ]
  },
  {
   "cell_type": "markdown",
   "metadata": {},
   "source": [
    "Pour alaska-railroad.png, on obtient une tournée de longueur 8105892 et les images suivantes\n",
    "\n",
    "L'image originale  :\n",
    "![title](../../instances/images/original/alaska-railroad.png)\n",
    "\n",
    "\n",
    "Et l'image reconstruite : \n",
    "![title](../../Train-reconstruit.png)\n",
    "\n"
   ]
  },
  {
   "cell_type": "markdown",
   "metadata": {},
   "source": []
  }
 ],
 "metadata": {
  "kernelspec": {
   "display_name": "Julia 1.9.3",
   "language": "julia",
   "name": "julia-1.9"
  },
  "language_info": {
   "file_extension": ".jl",
   "mimetype": "application/julia",
   "name": "julia",
   "version": "1.9.3"
  }
 },
 "nbformat": 4,
 "nbformat_minor": 2
}
