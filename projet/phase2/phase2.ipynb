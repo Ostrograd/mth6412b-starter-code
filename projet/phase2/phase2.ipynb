{
 "cells": [
  {
   "cell_type": "markdown",
   "metadata": {},
   "source": [
    "# Phase 2 \n",
    "Antoine Demers-Bergeron et Joseph Thompson\n",
    "\n",
    "## Partie 1\n",
    "### 1. Structure de données pour les composantes connexes\n",
    "On a implémenté une structure identique aux graphes. On veut que les composantes connexes aient les même propriétés que les graphes."
   ]
  },
  {
   "cell_type": "code",
   "execution_count": 43,
   "metadata": {},
   "outputs": [
    {
     "data": {
      "text/plain": [
       "last_in_first_out_priority_queue"
      ]
     },
     "metadata": {},
     "output_type": "display_data"
    }
   ],
   "source": [
    "\n",
    "include(\"../phase1/node.jl\")\n",
    "include(\"../phase1/edges.jl\")\n",
    "include(\"../phase1/graph.jl\")\n",
    "include(\"../phase1/read_stsp.jl\")\n",
    "include(\"comp_connexes.jl\")\n",
    "include(\"../phase1/main.jl\")\n",
    "include(\"queue.jl\")"
   ]
  },
  {
   "cell_type": "code",
   "execution_count": 44,
   "metadata": {},
   "outputs": [
    {
     "data": {
      "text/plain": [
       "Base.show"
      ]
     },
     "metadata": {},
     "output_type": "display_data"
    }
   ],
   "source": [
    "mutable struct Comp_Connexe{Y,T} <: AbstractGraph{T}\n",
    "    name::String\n",
    "    nodes::Vector{Node{Y}}\n",
    "    edges::Vector{Edge{T,Y}}\n",
    "  end\n",
    "  \n",
    "  \"\"\"Ajoute un noeud à la composante connexe.\"\"\"\n",
    "  function add_node!(graph::Comp_Connexe{Y,T}, node::Node{Y}) where {Y,T}\n",
    "    push!(graph.nodes, node)\n",
    "    graph\n",
    "  end\n",
    "  \n",
    "  \"\"\"Ajoute une arête à la composante connexe\"\"\"\n",
    "  function add_edge!(graph::Comp_Connexe{Y,T}, edge::Edge{T,Y}) where {Y,T}\n",
    "    push!(graph.edges, edge)\n",
    "    if !(edge.node1.name in nodes_names(graph))\n",
    "      add_node!(graph, edge.node1)\n",
    "      @warn \"Le noeud\",edge.node1.name,\" n'était pas dans le graphe. Il a été ajouté.\"\n",
    "    end\n",
    "    if !(edge.node2.name in nodes_names(graph))\n",
    "      add_node!(graph, edge.node2)\n",
    "      @warn \"Le noeud\",edge.node2.name,\" n'était pas dans le graphe. Il a été ajouté.\"\n",
    "    end\n",
    "    graph\n",
    "  end\n",
    "  \n",
    "  \"\"\"Affiche la composante connexe\"\"\"\n",
    "  function show(graph::Comp_Connexe)\n",
    "    println(\"La composante connexe \", name(graph), \" a \", nb_nodes(graph), \" noeuds.\")\n",
    "    for node in nodes(graph)\n",
    "      show(node)\n",
    "    end\n",
    "    println(\"La composante connexe \", name(graph), \" a \", nb_edges(graph), \" arretes.\")\n",
    "    for edge in edges(graph)\n",
    "      show(edge)\n",
    "    end\n",
    "  end"
   ]
  },
  {
   "cell_type": "markdown",
   "metadata": {},
   "source": [
    "### 2. Algorithme de Kruskal\n"
   ]
  },
  {
   "cell_type": "code",
   "execution_count": 45,
   "metadata": {},
   "outputs": [
    {
     "data": {
      "text/plain": [
       "Kruskal"
      ]
     },
     "metadata": {},
     "output_type": "display_data"
    }
   ],
   "source": [
    "\"\"\"\n",
    "Ce code implémente l'algorithme de Kruskal qui crée un arbre de\n",
    "recouvrement minimum à partir d'un graphe\n",
    "\"\"\"\n",
    "\n",
    "\"\"\" Tri par insertion une liste d'arêtes selon leur poids \"\"\"\n",
    "function insertion!(A::Vector{Edge{Int,Vector{Float64}}}) \n",
    "    n = length(A)\n",
    "    for j = 2 : n\n",
    "        key = A[j].weight\n",
    "        edge = A[j]\n",
    "        i = j - 1\n",
    "        while i > 0 && A[i].weight > key\n",
    "            A[i+1] = A[i]\n",
    "            i = i - 1\n",
    "        end\n",
    "        A[i+1] = edge\n",
    "    end\n",
    "    A\n",
    "end\n",
    "\n",
    "\"\"\" Vérifie si les deux noeud d'une arête donnée sont dans la même composante connexe \"\"\"\n",
    "function NodesInSameCConnexe(edge::Edge,CConnexes)\n",
    "    node1, node2 = nodes(edge)\n",
    "    for C in CConnexes\n",
    "        if node1 in C.nodes\n",
    "            if node2 in C.nodes\n",
    "                return true\n",
    "            else return false\n",
    "            end\n",
    "        end\n",
    "    end\n",
    "\n",
    "end\n",
    "\n",
    "\"\"\" Prend une arête [s_i,s_j] et la liste des composantes connexes en input et réunit les composantes connexes de s_i et s_j  \"\"\"\n",
    "function Merge_CConnexes!(edge, CConnexes)\n",
    "    node1, node2 = nodes(edge)\n",
    "    indice1, indice2 = 0, 0\n",
    "    for i in eachindex(CConnexes)\n",
    "        C = CConnexes[i]\n",
    "        if node1 in nodes(C)  ##Assigne l'indice de la composante connexe du noeud 1\n",
    "            indice1 = i     \n",
    "        end\n",
    "        if node2 in nodes(C)  ####Assigne l'indice de la composante connexe du noeud 2\n",
    "            indice2 = i\n",
    "        end\n",
    "    end\n",
    "\n",
    "    if indice1 != 0 && indice2 != 0\n",
    "        append!(CConnexes[indice1].nodes, CConnexes[indice2].nodes)\n",
    "        append!(CConnexes[indice1].edges, CConnexes[indice2].edges)\n",
    "        add_edge!(CConnexes[indice1],edge)\n",
    "        deleteat!(CConnexes, indice2)\n",
    "    end\n",
    "\n",
    "    return CConnexes\n",
    "end\n",
    "\n",
    "\"\"\" Construit l'arbre de recouvrement minimum avec l'algorithme de Kruskal\"\"\"\n",
    "function Kruskal(graphe::Graph)\n",
    "    A = insertion!(graphe.edges)   ##Tri les arêtes selon leur poids\n",
    "    CConnexes_list = []\n",
    "    i=1\n",
    "    for node in nodes(graphe)   ##Crée une composante connexe pour chaque noeud\n",
    "        push!(CConnexes_list,Comp_Connexe(string(i),Node{Vector{Float64}}[node],Edge{Int,Vector{Float64}}[]))\n",
    "    end\n",
    "    \n",
    "    for edge in A\n",
    "        if length(CConnexes_list) == 1\n",
    "            break       ##On arrête lorsqu'il reste une seule composante connexe\n",
    "        end\n",
    "        if (NodesInSameCConnexe(edge,CConnexes_list)) != true    \n",
    "            CConnexes_list = Merge_CConnexes!(edge,CConnexes_list) ##Réunit les composantes connexes des deux noeuds\n",
    "        end\n",
    "    end\n",
    "    return CConnexes_list[1]\n",
    "end"
   ]
  },
  {
   "cell_type": "markdown",
   "metadata": {},
   "source": [
    "On a ensuite testé l'algorithme sur le graphe présenté en exemple dans les notes de laboratoires."
   ]
  },
  {
   "cell_type": "code",
   "execution_count": 46,
   "metadata": {},
   "outputs": [
    {
     "name": "stdout",
     "output_type": "stream",
     "text": [
      "La composante connexe 1 a 9 noeuds.\n",
      "Node e, data: [0.0]\n",
      "Node a, data: [0.0]\n",
      "Node b, data: [0.0]\n",
      "Node i, data: [0.0]\n",
      "Node c, data: [0.0]\n",
      "Node h, data: [0.0]\n",
      "Node g, data: [0.0]\n",
      "Node f, data: [0.0]\n",
      "Node d, data: [0.0]\n",
      "La composante connexe 1 a 8 arretes.\n",
      "Arête de a à b, poids: 4\n",
      "Arête de i à c, poids: 2\n",
      "Arête de h à g, poids: 1\n",
      "Arête de g à f, poids: 2\n",
      "Arête de c à f, poids: 4\n",
      "Arête de c à d, poids: 7\n",
      "Arête de a à h, poids: 8\n",
      "Arête de e à d, poids: 9\n"
     ]
    }
   ],
   "source": [
    "graphe_test = Graph(\"Test\",Node{Vector{Float64}}[],Edge{Int,Vector{Float64}}[])\n",
    "\n",
    "#Nodes \n",
    "nodea = Node(\"a\",[0.])\n",
    "nodeb = Node(\"b\",[0.])\n",
    "nodec = Node(\"c\",[0.])\n",
    "noded = Node(\"d\",[0.])\n",
    "nodee = Node(\"e\",[0.])\n",
    "nodef = Node(\"f\",[0.])\n",
    "nodeg = Node(\"g\",[0.])\n",
    "nodeh = Node(\"h\",[0.])\n",
    "nodei = Node(\"i\",[0.])\n",
    "node_list = [nodea,nodeb,nodec, noded,nodee, nodef, \n",
    "                nodeg, nodeh, nodei]\n",
    "\n",
    "#Edges\n",
    "edge1 = Edge(nodea,nodeb, 4)\n",
    "edge2 = Edge(nodea,nodeh, 8)\n",
    "edge3 = Edge(nodeb, nodeh, 11)\n",
    "edge4 = Edge(nodeb, nodec, 8)\n",
    "edge5 = Edge(nodeh, nodei, 7)\n",
    "edge6 = Edge(nodeh, nodeg, 1)\n",
    "edge7 = Edge(nodeg, nodei, 6)\n",
    "edge8 = Edge(nodeg, nodef, 2)\n",
    "edge9 = Edge(nodec, nodef, 4)\n",
    "edge10 = Edge(nodei, nodec, 2)\n",
    "edge11 = Edge(nodef, nodee, 10)\n",
    "edge12 = Edge(nodee, noded, 9)\n",
    "edge13 = Edge(nodec,noded, 7)\n",
    "edge14 = Edge(noded, nodef, 14)\n",
    "edge_list = [edge1, edge2, edge3, edge4, edge5, edge6,\n",
    "                edge7, edge8, edge9, edge10, edge11,\n",
    "                edge12, edge13, edge14]\n",
    "\n",
    "##Construction du graphe\n",
    "for i in node_list\n",
    "    add_node!(graphe_test,i)\n",
    "end\n",
    "for i in edge_list\n",
    "    add_edge!(graphe_test, i)\n",
    "end\n",
    "\n",
    "CConnexe = Kruskal(graphe_test)\n",
    "\n",
    "show(CConnexe)"
   ]
  },
  {
   "cell_type": "markdown",
   "metadata": {},
   "source": [
    "### 3. Test sur diverses instances de TSP symétriques"
   ]
  },
  {
   "cell_type": "code",
   "execution_count": 47,
   "metadata": {},
   "outputs": [
    {
     "name": "stdout",
     "output_type": "stream",
     "text": [
      "Reading of header : ✓\n",
      "Reading of nodes : ✓\n",
      "Reading of edges : ✓\n",
      "La composante connexe 1 a 29 noeuds.\n",
      "Node 7, data: [1650.0, 650.0]\n",
      "Node 23, data: [1840.0, 1240.0]\n",
      "Node 11, data: [840.0, 550.0]\n",
      "Node 3, data: [40.0, 2090.0]\n",
      "Node 5, data: [750.0, 2030.0]\n",
      "Node 9, data: [790.0, 2260.0]\n",
      "Node 26, data: [490.0, 2130.0]\n",
      "Node 29, data: [360.0, 1980.0]\n",
      "Node 6, data: [1030.0, 2070.0]\n",
      "Node 12, data: [1170.0, 2300.0]\n",
      "Node 1, data: [1150.0, 1760.0]\n",
      "Node 28, data: [1260.0, 1910.0]\n",
      "Node 2, data: [630.0, 1660.0]\n",
      "Node 21, data: [830.0, 1770.0]\n",
      "Node 16, data: [1280.0, 1200.0]\n",
      "Node 8, data: [1490.0, 1630.0]\n",
      "Node 24, data: [1260.0, 1500.0]\n",
      "Node 27, data: [1460.0, 1420.0]\n",
      "Node 4, data: [750.0, 1100.0]\n",
      "Node 15, data: [750.0, 900.0]\n",
      "Node 10, data: [710.0, 1310.0]\n",
      "Node 20, data: [590.0, 1390.0]\n",
      "Node 14, data: [510.0, 700.0]\n",
      "Node 18, data: [460.0, 860.0]\n",
      "Node 22, data: [490.0, 500.0]\n",
      "Node 19, data: [1040.0, 950.0]\n",
      "Node 13, data: [970.0, 1340.0]\n",
      "Node 17, data: [230.0, 590.0]\n",
      "Node 25, data: [1280.0, 790.0]\n",
      "La composante connexe 1 a 28 arretes.\n",
      "Arête de 5 à 9, poids: 46\n",
      "Arête de 26 à 29, poids: 39\n",
      "Arête de 5 à 26, poids: 57\n",
      "Arête de 6 à 12, poids: 55\n",
      "Arête de 1 à 28, poids: 45\n",
      "Arête de 6 à 28, poids: 60\n",
      "Arête de 5 à 6, poids: 61\n",
      "Arête de 2 à 21, poids: 42\n",
      "Arête de 1 à 21, poids: 65\n",
      "Arête de 24 à 27, poids: 41\n",
      "Arête de 8 à 27, poids: 43\n",
      "Arête de 16 à 27, poids: 55\n",
      "Arête de 4 à 15, poids: 38\n",
      "Arête de 10 à 20, poids: 28\n",
      "Arête de 4 à 10, poids: 42\n",
      "Arête de 14 à 18, poids: 35\n",
      "Arête de 14 à 22, poids: 44\n",
      "Arête de 15 à 18, poids: 56\n",
      "Arête de 15 à 19, poids: 56\n",
      "Arête de 10 à 13, poids: 57\n",
      "Arête de 14 à 17, poids: 59\n",
      "Arête de 16 à 19, poids: 66\n",
      "Arête de 1 à 24, poids: 67\n",
      "Arête de 19 à 25, poids: 69\n",
      "Arête de 3 à 29, poids: 77\n",
      "Arête de 11 à 15, poids: 79\n",
      "Arête de 23 à 27, poids: 80\n",
      "Arête de 7 à 25, poids: 95\n"
     ]
    }
   ],
   "source": [
    "graphe1, graphe1_nodes = graph_from_tsp(\"../../instances/stsp/bays29.tsp\",\"graphe1\")\n",
    "CConnexe = Kruskal(graphe1)\n",
    "\n",
    "show(CConnexe)"
   ]
  },
  {
   "cell_type": "code",
   "execution_count": 48,
   "metadata": {},
   "outputs": [
    {
     "name": "stdout",
     "output_type": "stream",
     "text": [
      "Reading of header : ✓\n",
      "Reading of nodes : ✓\n",
      "Reading of edges : ✓\n",
      "La composante connexe 1 a 42 noeuds.\n",
      "Node 25, data: [0.0, 0.0]\n",
      "Node 18, data: [0.0, 0.0]\n",
      "Node 32, data: [0.0, 0.0]\n",
      "Node 15, data: [0.0, 0.0]\n",
      "Node 17, data: [0.0, 0.0]\n",
      "Node 16, data: [0.0, 0.0]\n",
      "Node 38, data: [0.0, 0.0]\n",
      "Node 9, data: [0.0, 0.0]\n",
      "Node 10, data: [0.0, 0.0]\n",
      "Node 24, data: [0.0, 0.0]\n",
      "Node 42, data: [0.0, 0.0]\n",
      "Node 12, data: [0.0, 0.0]\n",
      "Node 13, data: [0.0, 0.0]\n",
      "Node 19, data: [0.0, 0.0]\n",
      "Node 6, data: [0.0, 0.0]\n",
      "Node 27, data: [0.0, 0.0]\n",
      "Node 3, data: [0.0, 0.0]\n",
      "Node 28, data: [0.0, 0.0]\n",
      "Node 4, data: [0.0, 0.0]\n",
      "Node 5, data: [0.0, 0.0]\n",
      "Node 29, data: [0.0, 0.0]\n",
      "Node 1, data: [0.0, 0.0]\n",
      "Node 2, data: [0.0, 0.0]\n",
      "Node 7, data: [0.0, 0.0]\n",
      "Node 30, data: [0.0, 0.0]\n",
      "Node 31, data: [0.0, 0.0]\n",
      "Node 11, data: [0.0, 0.0]\n",
      "Node 26, data: [0.0, 0.0]\n",
      "Node 8, data: [0.0, 0.0]\n",
      "Node 14, data: [0.0, 0.0]\n",
      "Node 20, data: [0.0, 0.0]\n",
      "Node 33, data: [0.0, 0.0]\n",
      "Node 23, data: [0.0, 0.0]\n",
      "Node 39, data: [0.0, 0.0]\n",
      "Node 22, data: [0.0, 0.0]\n",
      "Node 40, data: [0.0, 0.0]\n",
      "Node 41, data: [0.0, 0.0]\n",
      "Node 21, data: [0.0, 0.0]\n",
      "Node 35, data: [0.0, 0.0]\n",
      "Node 34, data: [0.0, 0.0]\n",
      "Node 36, data: [0.0, 0.0]\n",
      "Node 37, data: [0.0, 0.0]\n",
      "La composante connexe 1 a 41 arretes.\n",
      "Arête de 18 à 32, poids: 21\n",
      "Arête de 15 à 17, poids: 8\n",
      "Arête de 15 à 16, poids: 11\n",
      "Arête de 16 à 38, poids: 22\n",
      "Arête de 18 à 38, poids: 33\n",
      "Arête de 24 à 42, poids: 19\n",
      "Arête de 10 à 24, poids: 27\n",
      "Arête de 9 à 10, poids: 28\n",
      "Arête de 12 à 13, poids: 14\n",
      "Arête de 6 à 27, poids: 15\n",
      "Arête de 3 à 28, poids: 4\n",
      "Arête de 3 à 4, poids: 11\n",
      "Arête de 4 à 5, poids: 11\n",
      "Arête de 3 à 29, poids: 18\n",
      "Arête de 1 à 2, poids: 15\n",
      "Arête de 2 à 7, poids: 19\n",
      "Arête de 5 à 7, poids: 20\n",
      "Arête de 6 à 7, poids: 23\n",
      "Arête de 19 à 27, poids: 23\n",
      "Arête de 13 à 19, poids: 26\n",
      "Arête de 30 à 31, poids: 21\n",
      "Arête de 29 à 30, poids: 27\n",
      "Arête de 11 à 26, poids: 22\n",
      "Arête de 12 à 26, poids: 28\n",
      "Arête de 9 à 11, poids: 29\n",
      "Arête de 2 à 8, poids: 32\n",
      "Arête de 14 à 20, poids: 25\n",
      "Arête de 6 à 20, poids: 34\n",
      "Arête de 15 à 20, poids: 35\n",
      "Arête de 1 à 33, poids: 37\n",
      "Arête de 23 à 39, poids: 36\n",
      "Arête de 22 à 40, poids: 26\n",
      "Arête de 22 à 41, poids: 30\n",
      "Arête de 23 à 40, poids: 39\n",
      "Arête de 10 à 40, poids: 46\n",
      "Arête de 25 à 41, poids: 49\n",
      "Arête de 21 à 35, poids: 23\n",
      "Arête de 21 à 34, poids: 24\n",
      "Arête de 33 à 35, poids: 49\n",
      "Arête de 36 à 37, poids: 39\n",
      "Arête de 32 à 36, poids: 60\n"
     ]
    }
   ],
   "source": [
    "graphe1, graphe1_nodes = graph_from_tsp(\"../../instances/stsp/swiss42.tsp\",\"graphe1\")\n",
    "CConnexe = Kruskal(graphe1)\n",
    "\n",
    "show(CConnexe)"
   ]
  },
  {
   "cell_type": "markdown",
   "metadata": {},
   "source": [
    "## Partie 2 : Implémentation des deux heuristiques\n",
    "\n"
   ]
  },
  {
   "cell_type": "code",
   "execution_count": 49,
   "metadata": {},
   "outputs": [],
   "source": [
    "tree_root = Tree(\"1\", 0)\n",
    "child1 = Tree(\"2\", 1)\n",
    "child2 = Tree(\"3\", 2)\n",
    "child3 = Tree(\"4\", 3)\n",
    "child4 = Tree(\"5\", 4)\n",
    "first_row = [ child1, child2, child3]\n",
    "second_row = [child4]\n",
    "for child in first_row\n",
    "    change_parent!(child, tree_root)\n",
    "end\n",
    "for child in second_row\n",
    "    change_parent!(child, child3)\n",
    "end"
   ]
  },
  {
   "cell_type": "code",
   "execution_count": 50,
   "metadata": {},
   "outputs": [
    {
     "name": "stdout",
     "output_type": "stream",
     "text": [
      "Node 1 has  rank 0and 3 children.\n",
      "listing of children : \n",
      "node_visited: 2     \n",
      " its parent is 1     \n",
      " its rank (or distance to parent) is 0\n",
      "node_visited: 3     \n",
      " its parent is 1     \n",
      " its rank (or distance to parent) is 0\n",
      "node_visited: 4     \n",
      " its parent is 1     \n",
      " its rank (or distance to parent) is 0\n",
      "child: 5\n",
      "node_visited: 5     \n",
      " its parent is 4     \n",
      " its rank (or distance to parent) is 0\n"
     ]
    }
   ],
   "source": [
    "show(tree_root)"
   ]
  },
  {
   "cell_type": "code",
   "execution_count": 51,
   "metadata": {},
   "outputs": [
    {
     "data": {
      "text/plain": [
       "rank_union!"
      ]
     },
     "metadata": {},
     "output_type": "display_data"
    }
   ],
   "source": [
    "\"\"\"Trouve la racine d'un arbre \"\"\"\n",
    "function find_root(tree::Tree{T}) where T\n",
    "  #root is the only node without a parent\n",
    "  if isnothing(parent(tree))\n",
    "      return tree\n",
    "  else\n",
    "      return find_root(parent(tree))\n",
    "  end\n",
    "end\n",
    "\n",
    "\n",
    "\"\"\"Implementation du premier heuristic\"\"\"\n",
    "function rank_union!(tree_1::Tree{T}, tree_2::Tree{T}) where T\n",
    "    root_1 = find_root(tree_1)\n",
    "    root_2 = find_root(tree_2)\n",
    "    if rank(root_1) == rank(root_2)\n",
    "      change_parent!(root_2, root_1)\n",
    "      change_rank!(root_1, rank(root_1) + 1)\n",
    "      return root_1\n",
    "    elseif rank(root_1) > rank(root_2)\n",
    "      change_parent!(root_2, root_21)\n",
    "      return root_1\n",
    "    else\n",
    "      change_parent!(root_1, root_2)\n",
    "      return root_2\n",
    "    end\n",
    "end"
   ]
  },
  {
   "cell_type": "code",
   "execution_count": 52,
   "metadata": {},
   "outputs": [
    {
     "name": "stdout",
     "output_type": "stream",
     "text": [
      "Node A has  rank 2and 2 children.\n",
      "listing of children : \n",
      "node_visited: B     \n",
      " its parent is A     \n",
      " its rank (or distance to parent) is 0\n",
      "node_visited: C     \n",
      " its parent is A     \n",
      " its rank (or distance to parent) is 1\n",
      "child: D\n",
      "node_visited: D     \n",
      " its parent is C     \n",
      " its rank (or distance to parent) is 0\n"
     ]
    }
   ],
   "source": [
    "tree_A = Tree(\"A\", 0)\n",
    "tree_B = Tree(\"B\", 1)\n",
    "new_tree = rank_union!(tree_A, tree_B)\n",
    "tree_C = Tree(\"C\", 2)\n",
    "tree_D = Tree(\"D\", 3)\n",
    "second_tree = rank_union!(tree_C, tree_D)\n",
    "final_tree = rank_union!(new_tree, second_tree)\n",
    "show(final_tree)\n"
   ]
  },
  {
   "cell_type": "code",
   "execution_count": 53,
   "metadata": {},
   "outputs": [
    {
     "data": {
      "text/plain": [
       "path_compression"
      ]
     },
     "metadata": {},
     "output_type": "display_data"
    }
   ],
   "source": [
    "\n",
    "\n",
    "\"\"\"Implementation du deuxieme heuristic\"\"\"\n",
    "function path_compression(tree::Tree{T}) where T\n",
    "    #la racine est le seul noeud sans parent\n",
    "    if isnothing(parent(tree))\n",
    "        return tree\n",
    "    else\n",
    "        root =  path_compression(parent(tree))\n",
    "        change_parent!(tree, root)\n",
    "        return root\n",
    "    end\n",
    "end"
   ]
  },
  {
   "cell_type": "markdown",
   "metadata": {},
   "source": [
    "## Partie 3 : Algorithme de Prim"
   ]
  },
  {
   "cell_type": "code",
   "execution_count": 54,
   "metadata": {},
   "outputs": [
    {
     "data": {
      "text/plain": [
       "prims_algorithm (generic function with 1 method)"
      ]
     },
     "metadata": {},
     "output_type": "display_data"
    }
   ],
   "source": [
    "\n",
    "\"\"\"crée une liste d'adjacence a partir d'un graphe\"\"\"\n",
    "function adjacency_dict( graph::Graph , priority_queue::PriorityQueue{PriorityItem{Tree{T}}}) where T\n",
    "    #Dictionaire de adjacence\n",
    "    adj_dict = Dict()\n",
    "    #Dictionaire de correspondance entre les noeuds et les items de la file de priorite\n",
    "    correspondance_dict = Dict()\n",
    "    #Chaque noeud est une clef du dictionaire de adjacence\n",
    "    for (node, priority_item) in zip(nodes(graph),priority_queue.items)\n",
    "        adj_dict[priority_item] = Dict()\n",
    "        correspondance_dict[node] = priority_item\n",
    "    end\n",
    "    #Ajoute les voisins de chaque noeud dans le dictionaire de adjacence\n",
    "    for edge in edges(graph)\n",
    "        node_1, node_2 = nodes(edge)\n",
    "        prior_item_1 = correspondance_dict[node_1]\n",
    "        prior_item_2 = correspondance_dict[node_2]\n",
    "        adj_dict[prior_item_1][prior_item_2] = weight(edge)\n",
    "        adj_dict[prior_item_2][prior_item_1] = weight(edge)\n",
    "    end\n",
    "    return adj_dict\n",
    "end\n",
    "\n",
    "\"\"\"Crée une file de priorite a partir d'un graphe. Le noeud de depart a une priorite de 0 et les autres ont une priorite de Inf\"\"\"\n",
    "function prims_priority_queue(graph::Graph{Y,T}, start_node_name::String) where {Y,T}\n",
    "    priority_queue = PriorityQueue{PriorityItem{Tree{Y}}}()\n",
    "    for node in nodes(graph)\n",
    "        if name(node) == start_node_name\n",
    "            blank_tree = Tree(name(node), data(node))\n",
    "            priority_item = PriorityItem( 0 , blank_tree)\n",
    "        else\n",
    "            blank_tree = Tree(name(node), data(node))\n",
    "            priority_item = PriorityItem( Inf, blank_tree)\n",
    "        end\n",
    "        push!(priority_queue, priority_item)\n",
    "    end\n",
    "    return priority_queue\n",
    "end\n",
    "\n",
    "function prims_algorithm(graph::Graph{Y,T}; start_node_name::Any = nothing) where {Y,T}\n",
    "    #initialisation\n",
    "    if isnothing(start_node_name)\n",
    "        start_node_name = name(nodes(graph)[1])\n",
    "    end\n",
    "    #initialisation de la file de priorite et du dictionaire d'adjacence\n",
    "    priority_queue = prims_priority_queue(graph, start_node_name)\n",
    "    adjacency_list = adjacency_dict(graph, priority_queue)\n",
    "    #sauvegarde de la racine\n",
    "    root = poplast!(priority_queue)\n",
    "    priority_node = root\n",
    "    #boucle principale\n",
    "    while !is_empty(priority_queue)\n",
    "        for  (neighbor, edge_weight) in adjacency_list[priority_node]\n",
    "            for item in priority_queue.items\n",
    "                if name(data(neighbor)) == name(data(item))\n",
    "                    if  edge_weight < priority(neighbor)\n",
    "                        change_parent!(data(neighbor), data(priority_node))\n",
    "                        change_rank!(data(neighbor), edge_weight)\n",
    "                        priority!(neighbor, edge_weight)\n",
    "                    end\n",
    "                break\n",
    "                end\n",
    "            end\n",
    "        end\n",
    "        priority_node = poplast!(priority_queue)         \n",
    "    end\n",
    "    return data(root)\n",
    "end"
   ]
  },
  {
   "cell_type": "code",
   "execution_count": 55,
   "metadata": {},
   "outputs": [
    {
     "data": {
      "text/plain": [
       "tree_to_graph"
      ]
     },
     "metadata": {},
     "output_type": "display_data"
    }
   ],
   "source": [
    "\"\"\"Convert un arbre en graphe\"\"\"\n",
    "function tree_to_graph(tree::Tree{T}) where T\n",
    "  graph = Graph(name(tree), Node{T}[], Edge{Float64, T}[])\n",
    "  nodes_to_visit = copy(children(tree))\n",
    "  while length(nodes_to_visit) != 0\n",
    "    current_tree = popfirst!(nodes_to_visit)\n",
    "    node = Node(name(current_tree), data(current_tree))\n",
    "    parent_tree= parent(current_tree)\n",
    "    for child in children(current_tree)\n",
    "      push!(nodes_to_visit, child)\n",
    "    end\n",
    "    if !isnothing(parent_tree)\n",
    "      parent_node = Node(name(parent_tree), data(parent_tree))\n",
    "      distance = convert(Float64, rank(current_tree))\n",
    "      edge = Edge(parent_node, node, distance)\n",
    "      add_edge!(graph, edge)\n",
    "    end\n",
    "  end\n",
    "  graph\n",
    "end"
   ]
  },
  {
   "cell_type": "code",
   "execution_count": 56,
   "metadata": {},
   "outputs": [
    {
     "name": "stdout",
     "output_type": "stream",
     "text": [
      "Graph a has 9 nodes.\n",
      "Node a, data: [0.0]\n",
      "Node b, data: [0.0]\n",
      "Node c, data: [0.0]\n",
      "Node f, data: [0.0]\n",
      "Node d, data: [0.0]\n",
      "Node i, data: [0.0]\n",
      "Node g, data: [0.0]\n",
      "Node e, data: [0.0]\n",
      "Node h, data: [0.0]\n",
      "Graph a has 8 edges.\n",
      "Arête de a à b, poids: 4.0\n",
      "Arête de b à c, poids: 8.0\n",
      "Arête de c à f, poids: 4.0\n",
      "Arête de c à d, poids: 7.0\n",
      "Arête de c à i, poids: 2.0\n",
      "Arête de f à g, poids: 2.0\n",
      "Arête de d à e, poids: 9.0\n",
      "Arête de g à h, poids: 1.0\n"
     ]
    },
    {
     "name": "stderr",
     "output_type": "stream",
     "text": [
      "┌ Warning: (\"Le noeud\", \"a\", \" n'était pas dans le graphe. Il a été ajouté.\")\n",
      "└ @ Main /Users/letshopethisworks2/Documents/Phd docs/algo_class/mth6412b-starter-code/projet/phase1/graph.jl:35\n",
      "┌ Warning: (\"Le noeud\", \"b\", \" n'était pas dans le graphe. Il a été ajouté.\")\n",
      "└ @ Main /Users/letshopethisworks2/Documents/Phd docs/algo_class/mth6412b-starter-code/projet/phase1/graph.jl:39\n",
      "┌ Warning: (\"Le noeud\", \"c\", \" n'était pas dans le graphe. Il a été ajouté.\")\n",
      "└ @ Main /Users/letshopethisworks2/Documents/Phd docs/algo_class/mth6412b-starter-code/projet/phase1/graph.jl:39\n",
      "┌ Warning: (\"Le noeud\", \"f\", \" n'était pas dans le graphe. Il a été ajouté.\")\n",
      "└ @ Main /Users/letshopethisworks2/Documents/Phd docs/algo_class/mth6412b-starter-code/projet/phase1/graph.jl:39\n",
      "┌ Warning: (\"Le noeud\", \"d\", \" n'était pas dans le graphe. Il a été ajouté.\")\n",
      "└ @ Main /Users/letshopethisworks2/Documents/Phd docs/algo_class/mth6412b-starter-code/projet/phase1/graph.jl:39\n",
      "┌ Warning: (\"Le noeud\", \"i\", \" n'était pas dans le graphe. Il a été ajouté.\")\n",
      "└ @ Main /Users/letshopethisworks2/Documents/Phd docs/algo_class/mth6412b-starter-code/projet/phase1/graph.jl:39\n",
      "┌ Warning: (\"Le noeud\", \"g\", \" n'était pas dans le graphe. Il a été ajouté.\")\n",
      "└ @ Main /Users/letshopethisworks2/Documents/Phd docs/algo_class/mth6412b-starter-code/projet/phase1/graph.jl:39\n",
      "┌ Warning: (\"Le noeud\", \"e\", \" n'était pas dans le graphe. Il a été ajouté.\")\n",
      "└ @ Main /Users/letshopethisworks2/Documents/Phd docs/algo_class/mth6412b-starter-code/projet/phase1/graph.jl:39\n",
      "┌ Warning: (\"Le noeud\", \"h\", \" n'était pas dans le graphe. Il a été ajouté.\")\n",
      "└ @ Main /Users/letshopethisworks2/Documents/Phd docs/algo_class/mth6412b-starter-code/projet/phase1/graph.jl:39\n"
     ]
    }
   ],
   "source": [
    "\n",
    "test_tree = prims_algorithm(graphe_test,start_node_name =  \"a\")\n",
    "test_graph = tree_to_graph(test_tree)\n",
    "show(test_graph)"
   ]
  },
  {
   "cell_type": "code",
   "execution_count": 57,
   "metadata": {},
   "outputs": [
    {
     "name": "stdout",
     "output_type": "stream",
     "text": [
      "Reading of header : ✓\n",
      "Reading of nodes : ✓\n",
      "Reading of edges : ✓\n"
     ]
    },
    {
     "data": {
      "text/plain": [
       "(Graph{Vector{Float64}, Int64}(\"graphe1\", Node{Vector{Float64}}[Node{Vector{Float64}}(\"1\", [1150.0, 1760.0]), Node{Vector{Float64}}(\"2\", [630.0, 1660.0]), Node{Vector{Float64}}(\"3\", [40.0, 2090.0]), Node{Vector{Float64}}(\"4\", [750.0, 1100.0]), Node{Vector{Float64}}(\"5\", [750.0, 2030.0]), Node{Vector{Float64}}(\"6\", [1030.0, 2070.0]), Node{Vector{Float64}}(\"7\", [1650.0, 650.0]), Node{Vector{Float64}}(\"8\", [1490.0, 1630.0]), Node{Vector{Float64}}(\"9\", [790.0, 2260.0]), Node{Vector{Float64}}(\"10\", [710.0, 1310.0])  …  Node{Vector{Float64}}(\"20\", [590.0, 1390.0]), Node{Vector{Float64}}(\"21\", [830.0, 1770.0]), Node{Vector{Float64}}(\"22\", [490.0, 500.0]), Node{Vector{Float64}}(\"23\", [1840.0, 1240.0]), Node{Vector{Float64}}(\"24\", [1260.0, 1500.0]), Node{Vector{Float64}}(\"25\", [1280.0, 790.0]), Node{Vector{Float64}}(\"26\", [490.0, 2130.0]), Node{Vector{Float64}}(\"27\", [1460.0, 1420.0]), Node{Vector{Float64}}(\"28\", [1260.0, 1910.0]), Node{Vector{Float64}}(\"29\", [360.0, 1980.0])], Edge{Int64, Vector{Float64}}[Edge{Int64, Vector{Float64}}(Node{Vector{Float64}}(\"1\", [1150.0, 1760.0]), Node{Vector{Float64}}(\"2\", [630.0, 1660.0]), 107), Edge{Int64, Vector{Float64}}(Node{Vector{Float64}}(\"1\", [1150.0, 1760.0]), Node{Vector{Float64}}(\"3\", [40.0, 2090.0]), 241), Edge{Int64, Vector{Float64}}(Node{Vector{Float64}}(\"1\", [1150.0, 1760.0]), Node{Vector{Float64}}(\"4\", [750.0, 1100.0]), 190), Edge{Int64, Vector{Float64}}(Node{Vector{Float64}}(\"1\", [1150.0, 1760.0]), Node{Vector{Float64}}(\"5\", [750.0, 2030.0]), 124), Edge{Int64, Vector{Float64}}(Node{Vector{Float64}}(\"1\", [1150.0, 1760.0]), Node{Vector{Float64}}(\"6\", [1030.0, 2070.0]), 80), Edge{Int64, Vector{Float64}}(Node{Vector{Float64}}(\"1\", [1150.0, 1760.0]), Node{Vector{Float64}}(\"7\", [1650.0, 650.0]), 316), Edge{Int64, Vector{Float64}}(Node{Vector{Float64}}(\"1\", [1150.0, 1760.0]), Node{Vector{Float64}}(\"8\", [1490.0, 1630.0]), 76), Edge{Int64, Vector{Float64}}(Node{Vector{Float64}}(\"1\", [1150.0, 1760.0]), Node{Vector{Float64}}(\"9\", [790.0, 2260.0]), 152), Edge{Int64, Vector{Float64}}(Node{Vector{Float64}}(\"1\", [1150.0, 1760.0]), Node{Vector{Float64}}(\"10\", [710.0, 1310.0]), 157), Edge{Int64, Vector{Float64}}(Node{Vector{Float64}}(\"1\", [1150.0, 1760.0]), Node{Vector{Float64}}(\"11\", [840.0, 550.0]), 283)  …  Edge{Int64, Vector{Float64}}(Node{Vector{Float64}}(\"29\", [360.0, 1980.0]), Node{Vector{Float64}}(\"19\", [1040.0, 950.0]), 281), Edge{Int64, Vector{Float64}}(Node{Vector{Float64}}(\"29\", [360.0, 1980.0]), Node{Vector{Float64}}(\"20\", [590.0, 1390.0]), 135), Edge{Int64, Vector{Float64}}(Node{Vector{Float64}}(\"29\", [360.0, 1980.0]), Node{Vector{Float64}}(\"21\", [830.0, 1770.0]), 108), Edge{Int64, Vector{Float64}}(Node{Vector{Float64}}(\"29\", [360.0, 1980.0]), Node{Vector{Float64}}(\"22\", [490.0, 500.0]), 332), Edge{Int64, Vector{Float64}}(Node{Vector{Float64}}(\"29\", [360.0, 1980.0]), Node{Vector{Float64}}(\"23\", [1840.0, 1240.0]), 342), Edge{Int64, Vector{Float64}}(Node{Vector{Float64}}(\"29\", [360.0, 1980.0]), Node{Vector{Float64}}(\"24\", [1260.0, 1500.0]), 218), Edge{Int64, Vector{Float64}}(Node{Vector{Float64}}(\"29\", [360.0, 1980.0]), Node{Vector{Float64}}(\"25\", [1280.0, 790.0]), 350), Edge{Int64, Vector{Float64}}(Node{Vector{Float64}}(\"29\", [360.0, 1980.0]), Node{Vector{Float64}}(\"26\", [490.0, 2130.0]), 39), Edge{Int64, Vector{Float64}}(Node{Vector{Float64}}(\"29\", [360.0, 1980.0]), Node{Vector{Float64}}(\"27\", [1460.0, 1420.0]), 263), Edge{Int64, Vector{Float64}}(Node{Vector{Float64}}(\"29\", [360.0, 1980.0]), Node{Vector{Float64}}(\"28\", [1260.0, 1910.0]), 199)]), Dict(5 => [750.0, 2030.0], 16 => [1280.0, 1200.0], 20 => [590.0, 1390.0], 12 => [1170.0, 2300.0], 24 => [1260.0, 1500.0], 28 => [1260.0, 1910.0], 8 => [1490.0, 1630.0], 17 => [230.0, 590.0], 1 => [1150.0, 1760.0], 19 => [1040.0, 950.0]…))"
      ]
     },
     "metadata": {},
     "output_type": "display_data"
    }
   ],
   "source": [
    "graphe1, graphe1_nodes = graph_from_tsp(\"../../instances/stsp/bays29.tsp\",\"graphe1\")"
   ]
  },
  {
   "cell_type": "code",
   "execution_count": 58,
   "metadata": {},
   "outputs": [
    {
     "data": {
      "text/plain": [
       "Tree{Vector{Float64}}(\"1\", [1150.0, 1760.0], nothing, Tree{Vector{Float64}}[Tree{Vector{Float64}}(\"28\", [1260.0, 1910.0], Tree{Vector{Float64}}(#= circular reference @-3 =#), Tree{Vector{Float64}}[Tree{Vector{Float64}}(\"6\", [1030.0, 2070.0], Tree{Vector{Float64}}(#= circular reference @-3 =#), Tree{Vector{Float64}}[Tree{Vector{Float64}}(\"12\", [1170.0, 2300.0], Tree{Vector{Float64}}(#= circular reference @-3 =#), Tree{Vector{Float64}}[], 55), Tree{Vector{Float64}}(\"5\", [750.0, 2030.0], Tree{Vector{Float64}}(#= circular reference @-3 =#), Tree{Vector{Float64}}[Tree{Vector{Float64}}(\"26\", [490.0, 2130.0], Tree{Vector{Float64}}(#= circular reference @-3 =#), Tree{Vector{Float64}}[Tree{Vector{Float64}}(\"29\", [360.0, 1980.0], Tree{Vector{Float64}}(#= circular reference @-3 =#), Tree{Vector{Float64}}[Tree{Vector{Float64}}(\"3\", [40.0, 2090.0], Tree{Vector{Float64}}(#= circular reference @-3 =#), Tree{Vector{Float64}}[], 77)], 39)], 57), Tree{Vector{Float64}}(\"9\", [790.0, 2260.0], Tree{Vector{Float64}}(#= circular reference @-3 =#), Tree{Vector{Float64}}[], 46)], 61)], 60)], 45), Tree{Vector{Float64}}(\"21\", [830.0, 1770.0], Tree{Vector{Float64}}(#= circular reference @-3 =#), Tree{Vector{Float64}}[Tree{Vector{Float64}}(\"2\", [630.0, 1660.0], Tree{Vector{Float64}}(#= circular reference @-3 =#), Tree{Vector{Float64}}[Tree{Vector{Float64}}(\"20\", [590.0, 1390.0], Tree{Vector{Float64}}(#= circular reference @-3 =#), Tree{Vector{Float64}}[Tree{Vector{Float64}}(\"10\", [710.0, 1310.0], Tree{Vector{Float64}}(#= circular reference @-3 =#), Tree{Vector{Float64}}[Tree{Vector{Float64}}(\"13\", [970.0, 1340.0], Tree{Vector{Float64}}(#= circular reference @-3 =#), Tree{Vector{Float64}}[], 57), Tree{Vector{Float64}}(\"4\", [750.0, 1100.0], Tree{Vector{Float64}}(#= circular reference @-3 =#), Tree{Vector{Float64}}[Tree{Vector{Float64}}(\"15\", [750.0, 900.0], Tree{Vector{Float64}}(#= circular reference @-3 =#), Tree{Vector{Float64}}[Tree{Vector{Float64}}(\"19\", [1040.0, 950.0], Tree{Vector{Float64}}(#= circular reference @-3 =#), Tree{Vector{Float64}}[Tree{Vector{Float64}}(\"16\", [1280.0, 1200.0], Tree{Vector{Float64}}(#= circular reference @-3 =#), Tree{Vector{Float64}}[Tree{Vector{Float64}}(\"27\", [1460.0, 1420.0], Tree{Vector{Float64}}(#= circular reference @-3 =#), Tree{Vector{Float64}}[Tree{Vector{Float64}}(\"24\", [1260.0, 1500.0], Tree{Vector{Float64}}(#= circular reference @-3 =#), Tree{Vector{Float64}}[], 41), Tree{Vector{Float64}}(\"8\", [1490.0, 1630.0], Tree{Vector{Float64}}(#= circular reference @-3 =#), Tree{Vector{Float64}}[], 43), Tree{Vector{Float64}}(\"23\", [1840.0, 1240.0], Tree{Vector{Float64}}(#= circular reference @-3 =#), Tree{Vector{Float64}}[], 80)], 55)], 66), Tree{Vector{Float64}}(\"25\", [1280.0, 790.0], Tree{Vector{Float64}}(#= circular reference @-3 =#), Tree{Vector{Float64}}[Tree{Vector{Float64}}(\"7\", [1650.0, 650.0], Tree{Vector{Float64}}(#= circular reference @-3 =#), Tree{Vector{Float64}}[], 95)], 69)], 56), Tree{Vector{Float64}}(\"11\", [840.0, 550.0], Tree{Vector{Float64}}(#= circular reference @-3 =#), Tree{Vector{Float64}}[], 79), Tree{Vector{Float64}}(\"18\", [460.0, 860.0], Tree{Vector{Float64}}(#= circular reference @-3 =#), Tree{Vector{Float64}}[Tree{Vector{Float64}}(\"14\", [510.0, 700.0], Tree{Vector{Float64}}(#= circular reference @-3 =#), Tree{Vector{Float64}}[Tree{Vector{Float64}}(\"17\", [230.0, 590.0], Tree{Vector{Float64}}(#= circular reference @-3 =#), Tree{Vector{Float64}}[], 59), Tree{Vector{Float64}}(\"22\", [490.0, 500.0], Tree{Vector{Float64}}(#= circular reference @-3 =#), Tree{Vector{Float64}}[], 44)], 35)], 56)], 38)], 42)], 28)], 67)], 42)], 65)], 0)"
      ]
     },
     "metadata": {},
     "output_type": "display_data"
    }
   ],
   "source": [
    "bays_29_tree = prims_algorithm(graphe1)"
   ]
  },
  {
   "cell_type": "code",
   "execution_count": 59,
   "metadata": {},
   "outputs": [
    {
     "name": "stderr",
     "output_type": "stream",
     "text": [
      "┌ Warning: (\"Le noeud\", \"1\", \" n'était pas dans le graphe. Il a été ajouté.\")\n",
      "└ @ Main /Users/letshopethisworks2/Documents/Phd docs/algo_class/mth6412b-starter-code/projet/phase1/graph.jl:35\n",
      "┌ Warning: (\"Le noeud\", \"28\", \" n'était pas dans le graphe. Il a été ajouté.\")\n",
      "└ @ Main /Users/letshopethisworks2/Documents/Phd docs/algo_class/mth6412b-starter-code/projet/phase1/graph.jl:39\n",
      "┌ Warning: (\"Le noeud\", \"21\", \" n'était pas dans le graphe. Il a été ajouté.\")\n",
      "└ @ Main /Users/letshopethisworks2/Documents/Phd docs/algo_class/mth6412b-starter-code/projet/phase1/graph.jl:39\n",
      "┌ Warning: (\"Le noeud\", \"6\", \" n'était pas dans le graphe. Il a été ajouté.\")\n",
      "└ @ Main /Users/letshopethisworks2/Documents/Phd docs/algo_class/mth6412b-starter-code/projet/phase1/graph.jl:39\n",
      "┌ Warning: (\"Le noeud\", \"2\", \" n'était pas dans le graphe. Il a été ajouté.\")\n",
      "└ @ Main /Users/letshopethisworks2/Documents/Phd docs/algo_class/mth6412b-starter-code/projet/phase1/graph.jl:39\n",
      "┌ Warning: (\"Le noeud\", \"12\", \" n'était pas dans le graphe. Il a été ajouté.\")\n",
      "└ @ Main /Users/letshopethisworks2/Documents/Phd docs/algo_class/mth6412b-starter-code/projet/phase1/graph.jl:39\n",
      "┌ Warning: (\"Le noeud\", \"5\", \" n'était pas dans le graphe. Il a été ajouté.\")\n",
      "└ @ Main /Users/letshopethisworks2/Documents/Phd docs/algo_class/mth6412b-starter-code/projet/phase1/graph.jl:39\n",
      "┌ Warning: (\"Le noeud\", \"20\", \" n'était pas dans le graphe. Il a été ajouté.\")\n",
      "└ @ Main /Users/letshopethisworks2/Documents/Phd docs/algo_class/mth6412b-starter-code/projet/phase1/graph.jl:39\n",
      "┌ Warning: (\"Le noeud\", \"26\", \" n'était pas dans le graphe. Il a été ajouté.\")\n",
      "└ @ Main /Users/letshopethisworks2/Documents/Phd docs/algo_class/mth6412b-starter-code/projet/phase1/graph.jl:39\n",
      "┌ Warning: (\"Le noeud\", \"9\", \" n'était pas dans le graphe. Il a été ajouté.\")\n",
      "└ @ Main /Users/letshopethisworks2/Documents/Phd docs/algo_class/mth6412b-starter-code/projet/phase1/graph.jl:39\n",
      "┌ Warning: (\"Le noeud\", \"10\", \" n'était pas dans le graphe. Il a été ajouté.\")\n",
      "└ @ Main /Users/letshopethisworks2/Documents/Phd docs/algo_class/mth6412b-starter-code/projet/phase1/graph.jl:39\n",
      "┌ Warning: (\"Le noeud\", \"29\", \" n'était pas dans le graphe. Il a été ajouté.\")\n",
      "└ @ Main /Users/letshopethisworks2/Documents/Phd docs/algo_class/mth6412b-starter-code/projet/phase1/graph.jl:39\n",
      "┌ Warning: (\"Le noeud\", \"13\", \" n'était pas dans le graphe. Il a été ajouté.\")\n",
      "└ @ Main /Users/letshopethisworks2/Documents/Phd docs/algo_class/mth6412b-starter-code/projet/phase1/graph.jl:39\n",
      "┌ Warning: (\"Le noeud\", \"4\", \" n'était pas dans le graphe. Il a été ajouté.\")\n",
      "└ @ Main /Users/letshopethisworks2/Documents/Phd docs/algo_class/mth6412b-starter-code/projet/phase1/graph.jl:39\n",
      "┌ Warning: (\"Le noeud\", \"3\", \" n'était pas dans le graphe. Il a été ajouté.\")\n",
      "└ @ Main /Users/letshopethisworks2/Documents/Phd docs/algo_class/mth6412b-starter-code/projet/phase1/graph.jl:39\n",
      "┌ Warning: (\"Le noeud\", \"15\", \" n'était pas dans le graphe. Il a été ajouté.\")\n",
      "└ @ Main /Users/letshopethisworks2/Documents/Phd docs/algo_class/mth6412b-starter-code/projet/phase1/graph.jl:39\n",
      "┌ Warning: (\"Le noeud\", \"19\", \" n'était pas dans le graphe. Il a été ajouté.\")\n",
      "└ @ Main /Users/letshopethisworks2/Documents/Phd docs/algo_class/mth6412b-starter-code/projet/phase1/graph.jl:39\n",
      "┌ Warning: (\"Le noeud\", \"11\", \" n'était pas dans le graphe. Il a été ajouté.\")\n",
      "└ @ Main /Users/letshopethisworks2/Documents/Phd docs/algo_class/mth6412b-starter-code/projet/phase1/graph.jl:39\n",
      "┌ Warning: (\"Le noeud\", \"18\", \" n'était pas dans le graphe. Il a été ajouté.\")\n",
      "└ @ Main /Users/letshopethisworks2/Documents/Phd docs/algo_class/mth6412b-starter-code/projet/phase1/graph.jl:39\n",
      "┌ Warning: (\"Le noeud\", \"16\", \" n'était pas dans le graphe. Il a été ajouté.\")\n",
      "└ @ Main /Users/letshopethisworks2/Documents/Phd docs/algo_class/mth6412b-starter-code/projet/phase1/graph.jl:39\n",
      "┌ Warning: (\"Le noeud\", \"25\", \" n'était pas dans le graphe. Il a été ajouté.\")\n",
      "└ @ Main /Users/letshopethisworks2/Documents/Phd docs/algo_class/mth6412b-starter-code/projet/phase1/graph.jl:39\n",
      "┌ Warning: (\"Le noeud\", \"14\", \" n'était pas dans le graphe. Il a été ajouté.\")\n",
      "└ @ Main /Users/letshopethisworks2/Documents/Phd docs/algo_class/mth6412b-starter-code/projet/phase1/graph.jl:39\n",
      "┌ Warning: (\"Le noeud\", \"27\", \" n'était pas dans le graphe. Il a été ajouté.\")\n",
      "└ @ Main /Users/letshopethisworks2/Documents/Phd docs/algo_class/mth6412b-starter-code/projet/phase1/graph.jl:39\n",
      "┌ Warning: (\"Le noeud\", \"7\", \" n'était pas dans le graphe. Il a été ajouté.\")\n",
      "└ @ Main /Users/letshopethisworks2/Documents/Phd docs/algo_class/mth6412b-starter-code/projet/phase1/graph.jl:39\n",
      "┌ Warning: (\"Le noeud\", \"17\", \" n'était pas dans le graphe. Il a été ajouté.\")\n",
      "└ @ Main /Users/letshopethisworks2/Documents/Phd docs/algo_class/mth6412b-starter-code/projet/phase1/graph.jl:39\n",
      "┌ Warning: (\"Le noeud\", \"22\", \" n'était pas dans le graphe. Il a été ajouté.\")\n",
      "└ @ Main /Users/letshopethisworks2/Documents/Phd docs/algo_class/mth6412b-starter-code/projet/phase1/graph.jl:39\n",
      "┌ Warning: (\"Le noeud\", \"24\", \" n'était pas dans le graphe. Il a été ajouté.\")\n",
      "└ @ Main /Users/letshopethisworks2/Documents/Phd docs/algo_class/mth6412b-starter-code/projet/phase1/graph.jl:39\n",
      "┌ Warning: (\"Le noeud\", \"8\", \" n'était pas dans le graphe. Il a été ajouté.\")\n",
      "└ @ Main /Users/letshopethisworks2/Documents/Phd docs/algo_class/mth6412b-starter-code/projet/phase1/graph.jl:39\n",
      "┌ Warning: (\"Le noeud\", \"23\", \" n'était pas dans le graphe. Il a été ajouté.\")\n",
      "└ @ Main /Users/letshopethisworks2/Documents/Phd docs/algo_class/mth6412b-starter-code/projet/phase1/graph.jl:39\n"
     ]
    },
    {
     "data": {
      "text/plain": [
       "Graph{Vector{Float64}, Float64}(\"1\", Node{Vector{Float64}}[Node{Vector{Float64}}(\"1\", [1150.0, 1760.0]), Node{Vector{Float64}}(\"28\", [1260.0, 1910.0]), Node{Vector{Float64}}(\"21\", [830.0, 1770.0]), Node{Vector{Float64}}(\"6\", [1030.0, 2070.0]), Node{Vector{Float64}}(\"2\", [630.0, 1660.0]), Node{Vector{Float64}}(\"12\", [1170.0, 2300.0]), Node{Vector{Float64}}(\"5\", [750.0, 2030.0]), Node{Vector{Float64}}(\"20\", [590.0, 1390.0]), Node{Vector{Float64}}(\"26\", [490.0, 2130.0]), Node{Vector{Float64}}(\"9\", [790.0, 2260.0])  …  Node{Vector{Float64}}(\"16\", [1280.0, 1200.0]), Node{Vector{Float64}}(\"25\", [1280.0, 790.0]), Node{Vector{Float64}}(\"14\", [510.0, 700.0]), Node{Vector{Float64}}(\"27\", [1460.0, 1420.0]), Node{Vector{Float64}}(\"7\", [1650.0, 650.0]), Node{Vector{Float64}}(\"17\", [230.0, 590.0]), Node{Vector{Float64}}(\"22\", [490.0, 500.0]), Node{Vector{Float64}}(\"24\", [1260.0, 1500.0]), Node{Vector{Float64}}(\"8\", [1490.0, 1630.0]), Node{Vector{Float64}}(\"23\", [1840.0, 1240.0])], Edge{Float64, Vector{Float64}}[Edge{Float64, Vector{Float64}}(Node{Vector{Float64}}(\"1\", [1150.0, 1760.0]), Node{Vector{Float64}}(\"28\", [1260.0, 1910.0]), 45.0), Edge{Float64, Vector{Float64}}(Node{Vector{Float64}}(\"1\", [1150.0, 1760.0]), Node{Vector{Float64}}(\"21\", [830.0, 1770.0]), 65.0), Edge{Float64, Vector{Float64}}(Node{Vector{Float64}}(\"28\", [1260.0, 1910.0]), Node{Vector{Float64}}(\"6\", [1030.0, 2070.0]), 60.0), Edge{Float64, Vector{Float64}}(Node{Vector{Float64}}(\"21\", [830.0, 1770.0]), Node{Vector{Float64}}(\"2\", [630.0, 1660.0]), 42.0), Edge{Float64, Vector{Float64}}(Node{Vector{Float64}}(\"6\", [1030.0, 2070.0]), Node{Vector{Float64}}(\"12\", [1170.0, 2300.0]), 55.0), Edge{Float64, Vector{Float64}}(Node{Vector{Float64}}(\"6\", [1030.0, 2070.0]), Node{Vector{Float64}}(\"5\", [750.0, 2030.0]), 61.0), Edge{Float64, Vector{Float64}}(Node{Vector{Float64}}(\"2\", [630.0, 1660.0]), Node{Vector{Float64}}(\"20\", [590.0, 1390.0]), 67.0), Edge{Float64, Vector{Float64}}(Node{Vector{Float64}}(\"5\", [750.0, 2030.0]), Node{Vector{Float64}}(\"26\", [490.0, 2130.0]), 57.0), Edge{Float64, Vector{Float64}}(Node{Vector{Float64}}(\"5\", [750.0, 2030.0]), Node{Vector{Float64}}(\"9\", [790.0, 2260.0]), 46.0), Edge{Float64, Vector{Float64}}(Node{Vector{Float64}}(\"20\", [590.0, 1390.0]), Node{Vector{Float64}}(\"10\", [710.0, 1310.0]), 28.0)  …  Edge{Float64, Vector{Float64}}(Node{Vector{Float64}}(\"19\", [1040.0, 950.0]), Node{Vector{Float64}}(\"16\", [1280.0, 1200.0]), 66.0), Edge{Float64, Vector{Float64}}(Node{Vector{Float64}}(\"19\", [1040.0, 950.0]), Node{Vector{Float64}}(\"25\", [1280.0, 790.0]), 69.0), Edge{Float64, Vector{Float64}}(Node{Vector{Float64}}(\"18\", [460.0, 860.0]), Node{Vector{Float64}}(\"14\", [510.0, 700.0]), 35.0), Edge{Float64, Vector{Float64}}(Node{Vector{Float64}}(\"16\", [1280.0, 1200.0]), Node{Vector{Float64}}(\"27\", [1460.0, 1420.0]), 55.0), Edge{Float64, Vector{Float64}}(Node{Vector{Float64}}(\"25\", [1280.0, 790.0]), Node{Vector{Float64}}(\"7\", [1650.0, 650.0]), 95.0), Edge{Float64, Vector{Float64}}(Node{Vector{Float64}}(\"14\", [510.0, 700.0]), Node{Vector{Float64}}(\"17\", [230.0, 590.0]), 59.0), Edge{Float64, Vector{Float64}}(Node{Vector{Float64}}(\"14\", [510.0, 700.0]), Node{Vector{Float64}}(\"22\", [490.0, 500.0]), 44.0), Edge{Float64, Vector{Float64}}(Node{Vector{Float64}}(\"27\", [1460.0, 1420.0]), Node{Vector{Float64}}(\"24\", [1260.0, 1500.0]), 41.0), Edge{Float64, Vector{Float64}}(Node{Vector{Float64}}(\"27\", [1460.0, 1420.0]), Node{Vector{Float64}}(\"8\", [1490.0, 1630.0]), 43.0), Edge{Float64, Vector{Float64}}(Node{Vector{Float64}}(\"27\", [1460.0, 1420.0]), Node{Vector{Float64}}(\"23\", [1840.0, 1240.0]), 80.0)])"
      ]
     },
     "metadata": {},
     "output_type": "display_data"
    }
   ],
   "source": [
    "bays_29_graph = tree_to_graph(bays_29_tree)\n"
   ]
  },
  {
   "cell_type": "code",
   "execution_count": 60,
   "metadata": {},
   "outputs": [
    {
     "name": "stdout",
     "output_type": "stream",
     "text": [
      "Node 1 has  rank 0and 2 children.\n",
      "listing of children : \n",
      "node_visited: 28     \n",
      " its parent is 1     \n",
      " its rank (or distance to parent) is 45\n",
      "child: 6\n",
      "node_visited: 21     \n",
      " its parent is 1     \n",
      " its rank (or distance to parent) is 65\n",
      "child: 2\n",
      "node_visited: 6     \n",
      " its parent is 28     \n",
      " its rank (or distance to parent) is 60\n",
      "child: 12\n",
      "child: 5\n",
      "node_visited: 2     \n",
      " its parent is 21     \n",
      " its rank (or distance to parent) is 42\n",
      "child: 20\n",
      "node_visited: 12     \n",
      " its parent is 6     \n",
      " its rank (or distance to parent) is 55\n",
      "node_visited: 5     \n",
      " its parent is 6     \n",
      " its rank (or distance to parent) is 61\n",
      "child: 26\n",
      "child: 9\n",
      "node_visited: 20     \n",
      " its parent is 2     \n",
      " its rank (or distance to parent) is 67\n",
      "child: 10\n",
      "node_visited: 26     \n",
      " its parent is 5     \n",
      " its rank (or distance to parent) is 57\n",
      "child: 29\n",
      "node_visited: 9     \n",
      " its parent is 5     \n",
      " its rank (or distance to parent) is 46\n",
      "node_visited: 10     \n",
      " its parent is 20     \n",
      " its rank (or distance to parent) is 28\n",
      "child: 13\n",
      "child: 4\n",
      "node_visited: 29     \n",
      " its parent is 26     \n",
      " its rank (or distance to parent) is 39\n",
      "child: 3\n",
      "node_visited: 13     \n",
      " its parent is 10     \n",
      " its rank (or distance to parent) is 57\n",
      "node_visited: 4     \n",
      " its parent is 10     \n",
      " its rank (or distance to parent) is 42\n",
      "child: 15\n",
      "node_visited: 3     \n",
      " its parent is 29     \n",
      " its rank (or distance to parent) is 77\n",
      "node_visited: 15     \n",
      " its parent is 4     \n",
      " its rank (or distance to parent) is 38\n",
      "child: 19\n",
      "child: 11\n",
      "child: 18\n",
      "node_visited: 19     \n",
      " its parent is 15     \n",
      " its rank (or distance to parent) is 56\n",
      "child: 16\n",
      "child: 25\n",
      "node_visited: 11     \n",
      " its parent is 15     \n",
      " its rank (or distance to parent) is 79\n",
      "node_visited: 18     \n",
      " its parent is 15     \n",
      " its rank (or distance to parent) is 56\n",
      "child: 14\n",
      "node_visited: 16     \n",
      " its parent is 19     \n",
      " its rank (or distance to parent) is 66\n",
      "child: 27\n",
      "node_visited: 25     \n",
      " its parent is 19     \n",
      " its rank (or distance to parent) is 69\n",
      "child: 7\n",
      "node_visited: 14     \n",
      " its parent is 18     \n",
      " its rank (or distance to parent) is 35\n",
      "child: 17\n",
      "child: 22\n",
      "node_visited: 27     \n",
      " its parent is 16     \n",
      " its rank (or distance to parent) is 55\n",
      "child: 24\n",
      "child: 8\n",
      "child: 23\n",
      "node_visited: 7     \n",
      " its parent is 25     \n",
      " its rank (or distance to parent) is 95\n",
      "node_visited: 17     \n",
      " its parent is 14     \n",
      " its rank (or distance to parent) is 59\n",
      "node_visited: 22     \n",
      " its parent is 14     \n",
      " its rank (or distance to parent) is 44\n",
      "node_visited: 24     \n",
      " its parent is 27     \n",
      " its rank (or distance to parent) is 41\n",
      "node_visited: 8     \n",
      " its parent is 27     \n",
      " its rank (or distance to parent) is 43\n",
      "node_visited: 23     \n",
      " its parent is 27     \n",
      " its rank (or distance to parent) is 80\n"
     ]
    }
   ],
   "source": [
    "show(bays_29_tree)"
   ]
  },
  {
   "cell_type": "code",
   "execution_count": 61,
   "metadata": {},
   "outputs": [
    {
     "data": {
      "text/plain": [
       "2-element Vector{Tree{Vector{Float64}}}:\n",
       " Tree{Vector{Float64}}(\"28\", [1260.0, 1910.0], Tree{Vector{Float64}}(\"1\", [1150.0, 1760.0], nothing, Tree{Vector{Float64}}[#= circular reference @-3 =#], 0), Tree{Vector{Float64}}[Tree{Vector{Float64}}(\"6\", [1030.0, 2070.0], Tree{Vector{Float64}}(#= circular reference @-3 =#), Tree{Vector{Float64}}[Tree{Vector{Float64}}(\"12\", [1170.0, 2300.0], Tree{Vector{Float64}}(#= circular reference @-3 =#), Tree{Vector{Float64}}[], 55), Tree{Vector{Float64}}(\"5\", [750.0, 2030.0], Tree{Vector{Float64}}(#= circular reference @-3 =#), Tree{Vector{Float64}}[Tree{Vector{Float64}}(\"26\", [490.0, 2130.0], Tree{Vector{Float64}}(#= circular reference @-3 =#), Tree{Vector{Float64}}[Tree{Vector{Float64}}(\"29\", [360.0, 1980.0], Tree{Vector{Float64}}(#= circular reference @-3 =#), Tree{Vector{Float64}}[Tree{Vector{Float64}}(\"3\", [40.0, 2090.0], Tree{Vector{Float64}}(#= circular reference @-3 =#), Tree{Vector{Float64}}[], 77)], 39)], 57), Tree{Vector{Float64}}(\"9\", [790.0, 2260.0], Tree{Vector{Float64}}(#= circular reference @-3 =#), Tree{Vector{Float64}}[], 46)], 61)], 60)], 45)\n",
       " Tree{Vector{Float64}}(\"21\", [830.0, 1770.0], Tree{Vector{Float64}}(\"1\", [1150.0, 1760.0], nothing, Tree{Vector{Float64}}[#= circular reference @-3 =#], 0), Tree{Vector{Float64}}[Tree{Vector{Float64}}(\"2\", [630.0, 1660.0], Tree{Vector{Float64}}(#= circular reference @-3 =#), Tree{Vector{Float64}}[Tree{Vector{Float64}}(\"20\", [590.0, 1390.0], Tree{Vector{Float64}}(#= circular reference @-3 =#), Tree{Vector{Float64}}[Tree{Vector{Float64}}(\"10\", [710.0, 1310.0], Tree{Vector{Float64}}(#= circular reference @-3 =#), Tree{Vector{Float64}}[Tree{Vector{Float64}}(\"13\", [970.0, 1340.0], Tree{Vector{Float64}}(#= circular reference @-3 =#), Tree{Vector{Float64}}[], 57), Tree{Vector{Float64}}(\"4\", [750.0, 1100.0], Tree{Vector{Float64}}(#= circular reference @-3 =#), Tree{Vector{Float64}}[Tree{Vector{Float64}}(\"15\", [750.0, 900.0], Tree{Vector{Float64}}(#= circular reference @-3 =#), Tree{Vector{Float64}}[Tree{Vector{Float64}}(\"19\", [1040.0, 950.0], Tree{Vector{Float64}}(#= circular reference @-3 =#), Tree{Vector{Float64}}[Tree{Vector{Float64}}(\"16\", [1280.0, 1200.0], Tree{Vector{Float64}}(#= circular reference @-3 =#), Tree{Vector{Float64}}[Tree{Vector{Float64}}(\"27\", [1460.0, 1420.0], Tree{Vector{Float64}}(#= circular reference @-3 =#), Tree{Vector{Float64}}[Tree{Vector{Float64}}(\"24\", [1260.0, 1500.0], Tree{Vector{Float64}}(#= circular reference @-3 =#), Tree{Vector{Float64}}[], 41), Tree{Vector{Float64}}(\"8\", [1490.0, 1630.0], Tree{Vector{Float64}}(#= circular reference @-3 =#), Tree{Vector{Float64}}[], 43), Tree{Vector{Float64}}(\"23\", [1840.0, 1240.0], Tree{Vector{Float64}}(#= circular reference @-3 =#), Tree{Vector{Float64}}[], 80)], 55)], 66), Tree{Vector{Float64}}(\"25\", [1280.0, 790.0], Tree{Vector{Float64}}(#= circular reference @-3 =#), Tree{Vector{Float64}}[Tree{Vector{Float64}}(\"7\", [1650.0, 650.0], Tree{Vector{Float64}}(#= circular reference @-3 =#), Tree{Vector{Float64}}[], 95)], 69)], 56), Tree{Vector{Float64}}(\"11\", [840.0, 550.0], Tree{Vector{Float64}}(#= circular reference @-3 =#), Tree{Vector{Float64}}[], 79), Tree{Vector{Float64}}(\"18\", [460.0, 860.0], Tree{Vector{Float64}}(#= circular reference @-3 =#), Tree{Vector{Float64}}[Tree{Vector{Float64}}(\"14\", [510.0, 700.0], Tree{Vector{Float64}}(#= circular reference @-3 =#), Tree{Vector{Float64}}[Tree{Vector{Float64}}(\"17\", [230.0, 590.0], Tree{Vector{Float64}}(#= circular reference @-3 =#), Tree{Vector{Float64}}[], 59), Tree{Vector{Float64}}(\"22\", [490.0, 500.0], Tree{Vector{Float64}}(#= circular reference @-3 =#), Tree{Vector{Float64}}[], 44)], 35)], 56)], 38)], 42)], 28)], 67)], 42)], 65)"
      ]
     },
     "metadata": {},
     "output_type": "display_data"
    }
   ],
   "source": [
    "bays_29_tree.children"
   ]
  },
  {
   "cell_type": "code",
   "execution_count": 62,
   "metadata": {},
   "outputs": [
    {
     "name": "stdout",
     "output_type": "stream",
     "text": [
      "Graph 1 has 29 nodes.\n",
      "Node 1, data: [1150.0, 1760.0]\n",
      "Node 28, data: [1260.0, 1910.0]\n",
      "Node 21, data: [830.0, 1770.0]\n",
      "Node 6, data: [1030.0, 2070.0]\n",
      "Node 2, data: [630.0, 1660.0]\n",
      "Node 12, data: [1170.0, 2300.0]\n",
      "Node 5, data: [750.0, 2030.0]\n",
      "Node 20, data: [590.0, 1390.0]\n",
      "Node 26, data: [490.0, 2130.0]\n",
      "Node 9, data: [790.0, 2260.0]\n",
      "Node 10, data: [710.0, 1310.0]\n",
      "Node 29, data: [360.0, 1980.0]\n",
      "Node 13, data: [970.0, 1340.0]\n",
      "Node 4, data: [750.0, 1100.0]\n",
      "Node 3, data: [40.0, 2090.0]\n",
      "Node 15, data: [750.0, 900.0]\n",
      "Node 19, data: [1040.0, 950.0]\n",
      "Node 11, data: [840.0, 550.0]\n",
      "Node 18, data: [460.0, 860.0]\n",
      "Node 16, data: [1280.0, 1200.0]\n",
      "Node 25, data: [1280.0, 790.0]\n",
      "Node 14, data: [510.0, 700.0]\n",
      "Node 27, data: [1460.0, 1420.0]\n",
      "Node 7, data: [1650.0, 650.0]\n",
      "Node 17, data: [230.0, 590.0]\n",
      "Node 22, data: [490.0, 500.0]\n",
      "Node 24, data: [1260.0, 1500.0]\n",
      "Node 8, data: [1490.0, 1630.0]\n",
      "Node 23, data: [1840.0, 1240.0]\n",
      "Graph 1 has 28 edges.\n",
      "Arête de 1 à 28, poids: 45.0\n",
      "Arête de 1 à 21, poids: 65.0\n",
      "Arête de 28 à 6, poids: 60.0\n",
      "Arête de 21 à 2, poids: 42.0\n",
      "Arête de 6 à 12, poids: 55.0\n",
      "Arête de 6 à 5, poids: 61.0\n",
      "Arête de 2 à 20, poids: 67.0\n",
      "Arête de 5 à 26, poids: 57.0\n",
      "Arête de 5 à 9, poids: 46.0\n",
      "Arête de 20 à 10, poids: 28.0\n",
      "Arête de 26 à 29, poids: 39.0\n",
      "Arête de 10 à 13, poids: 57.0\n",
      "Arête de 10 à 4, poids: 42.0\n",
      "Arête de 29 à 3, poids: 77.0\n",
      "Arête de 4 à 15, poids: 38.0\n",
      "Arête de 15 à 19, poids: 56.0\n",
      "Arête de 15 à 11, poids: 79.0\n",
      "Arête de 15 à 18, poids: 56.0\n",
      "Arête de 19 à 16, poids: 66.0\n",
      "Arête de 19 à 25, poids: 69.0\n",
      "Arête de 18 à 14, poids: 35.0\n",
      "Arête de 16 à 27, poids: 55.0\n",
      "Arête de 25 à 7, poids: 95.0\n",
      "Arête de 14 à 17, poids: 59.0\n",
      "Arête de 14 à 22, poids: 44.0\n",
      "Arête de 27 à 24, poids: 41.0\n",
      "Arête de 27 à 8, poids: 43.0\n",
      "Arête de 27 à 23, poids: 80.0\n"
     ]
    }
   ],
   "source": [
    "show(bays_29_graph)"
   ]
  },
  {
   "cell_type": "code",
   "execution_count": 63,
   "metadata": {},
   "outputs": [],
   "source": []
  }
 ],
 "metadata": {
  "kernelspec": {
   "display_name": "Julia 1.9.3",
   "language": "julia",
   "name": "julia-1.9"
  },
  "language_info": {
   "file_extension": ".jl",
   "mimetype": "application/julia",
   "name": "julia",
   "version": "1.9.3"
  }
 },
 "nbformat": 4,
 "nbformat_minor": 2
}
