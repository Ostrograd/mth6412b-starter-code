{
 "cells": [
  {
   "cell_type": "code",
   "execution_count": 13,
   "metadata": {},
   "outputs": [
    {
     "data": {
      "text/plain": [
       "path_compression!"
      ]
     },
     "metadata": {},
     "output_type": "display_data"
    }
   ],
   "source": [
    "\n",
    "include(\"../phase1/node.jl\")\n",
    "include(\"../phase1/edges.jl\")\n",
    "include(\"../phase1/graph.jl\")\n",
    "include(\"../phase1/read_stsp.jl\")\n",
    "include(\"comp_connexes.jl\")\n",
    "include(\"../phase1/main.jl\")\n",
    "include(\"queue.jl\")\n",
    "include(\"heuristics.jl\")"
   ]
  },
  {
   "cell_type": "code",
   "execution_count": 14,
   "metadata": {},
   "outputs": [
    {
     "name": "stdout",
     "output_type": "stream",
     "text": [
      "Node 1 has  rank 0 and 3 children.\n",
      "It has no parent.\n",
      "Its children are: \n",
      "     2\n",
      "     3\n",
      "     4\n",
      "Node 2 has  rank 0 and 0 children.\n",
      "Its parent is 1\n",
      "It has no children.\n",
      "Node 3 has  rank 0 and 0 children.\n",
      "Its parent is 1\n",
      "It has no children.\n",
      "Node 4 has  rank 0 and 2 children.\n",
      "Its parent is 1\n",
      "Its children are: \n",
      "     5\n",
      "     7\n",
      "Node 5 has  rank 0 and 1 children.\n",
      "Its parent is 4\n",
      "Its children are: \n",
      "     6\n",
      "Node 7 has  rank 0 and 0 children.\n",
      "Its parent is 4\n",
      "It has no children.\n",
      "Node 6 has  rank 0 and 0 children.\n",
      "Its parent is 5\n",
      "It has no children.\n"
     ]
    }
   ],
   "source": [
    "tree_root = TreeNode(\"1\", 0)\n",
    "child1 = TreeNode(\"2\", 0)\n",
    "child2 = TreeNode(\"3\", 0)\n",
    "child3 = TreeNode(\"4\", 0)\n",
    "child4 = TreeNode(\"5\",0)\n",
    "child5 = TreeNode(\"6\",0)\n",
    "child6 = TreeNode(\"7\",0)\n",
    "\n",
    "tree = Tree(\"test tree\", Vector{TreeNode{Int}}())\n",
    "\n",
    "first_row = [ child1, child2, child3]\n",
    "second_row = [child4, child6]\n",
    "add_node!(tree, tree_root)\n",
    "for child in first_row\n",
    "    add_node!(tree, child, parent = tree_root)\n",
    "end\n",
    "for child in second_row\n",
    "    add_node!(tree, child, parent = child3)\n",
    "end\n",
    "add_node!(tree, child5, parent = child4)\n",
    "show(tree)"
   ]
  },
  {
   "cell_type": "code",
   "execution_count": 15,
   "metadata": {},
   "outputs": [
    {
     "data": {
      "text/plain": [
       "TreeNode{Int64}(\"1\", 0, nothing, [2, 3, 4], 0, 1)"
      ]
     },
     "metadata": {},
     "output_type": "display_data"
    }
   ],
   "source": [
    "find_root(tree)"
   ]
  },
  {
   "cell_type": "code",
   "execution_count": 16,
   "metadata": {},
   "outputs": [
    {
     "data": {
      "text/plain": [
       "1-element Vector{Int64}:\n",
       " 7"
      ]
     },
     "metadata": {},
     "output_type": "display_data"
    }
   ],
   "source": [
    "children_loc(child4)"
   ]
  },
  {
   "cell_type": "code",
   "execution_count": 17,
   "metadata": {},
   "outputs": [
    {
     "name": "stdout",
     "output_type": "stream",
     "text": [
      "TreeNode{Int64}(\"1\", 0, nothing, [2, 3, 4], 0, 1)\n"
     ]
    }
   ],
   "source": [
    "println(tree_root)"
   ]
  },
  {
   "cell_type": "code",
   "execution_count": 18,
   "metadata": {},
   "outputs": [
    {
     "data": {
      "text/plain": [
       "TreeNode{Int64}(\"1\", 0, nothing, [2, 3], 1, 1)"
      ]
     },
     "metadata": {},
     "output_type": "display_data"
    }
   ],
   "source": [
    "n1= TreeNode(\"1\", 0)\n",
    "n2 = TreeNode(\"2\", 0)\n",
    "n3 = TreeNode(\"3\", 0)\n",
    "n4= TreeNode(\"4\", 0)\n",
    "t1 = Tree(\"test tree\" , Vector{TreeNode{Int}}())\n",
    "t1 = add_node!(t1, n1)\n",
    "t1 = add_node!(t1, n2, parent = n1)\n",
    "t1 = add_node!(t1, n3)\n",
    "t1 = add_node!(t1, n4, parent = n3)\n",
    "rank_union!(t1, n1, n3)\n"
   ]
  },
  {
   "cell_type": "code",
   "execution_count": 19,
   "metadata": {},
   "outputs": [
    {
     "name": "stdout",
     "output_type": "stream",
     "text": [
      "Node 1 has  rank 1 and 2 children.\n",
      "It has no parent.\n",
      "Its children are: \n",
      "     2\n",
      "     3\n",
      "Node 2 has  rank 0 and 0 children.\n",
      "Its parent is 1\n",
      "It has no children.\n",
      "Node 3 has  rank 0 and 1 children.\n",
      "Its parent is 1\n",
      "Its children are: \n",
      "     4\n",
      "Node 4 has  rank 0 and 0 children.\n",
      "Its parent is 3\n",
      "It has no children.\n"
     ]
    }
   ],
   "source": [
    "show(t1)"
   ]
  },
  {
   "cell_type": "code",
   "execution_count": 20,
   "metadata": {},
   "outputs": [
    {
     "data": {
      "text/plain": [
       "prims_algorithm"
      ]
     },
     "metadata": {},
     "output_type": "display_data"
    }
   ],
   "source": [
    "\"\"\"crée une liste d'adjacence a partir d'un graphe\"\"\"\n",
    "function adjacency_dict( graph::Graph , priority_queue::PriorityQueue{PriorityItem{TreeNode{Y}}}) where {Y}\n",
    "    #Dictionaire de adjacence\n",
    "    adj_dict = Dict()\n",
    "    #Dictionaire de correspondance entre les noeuds et les items de la file de priorite\n",
    "    correspondance_dict = Dict()\n",
    "    #Chaque noeud est une clef du dictionaire de adjacence\n",
    "    for (node, priority_item) in zip(nodes(graph),priority_queue.items)\n",
    "        adj_dict[priority_item] = Dict()\n",
    "        correspondance_dict[node] = priority_item\n",
    "    end\n",
    "    #Ajoute les voisins de chaque noeud dans le dictionaire de adjacence\n",
    "    for edge in edges(graph)\n",
    "        node1, node2 = nodes(edge)\n",
    "        prior_item1 = correspondance_dict[node1]\n",
    "        prior_item2 = correspondance_dict[node2]\n",
    "        adj_dict[prior_item1][prior_item2] = weight(edge)\n",
    "        adj_dict[prior_item2][prior_item1] = weight(edge)\n",
    "    end\n",
    "    return adj_dict\n",
    "end\n",
    "\n",
    "\"\"\"Crée une file de priorite des arbres à partir d'un graphe. Le noeud de depart a une priorite de 0 et les autres ont une priorite de Inf\"\"\"\n",
    "function prims_priority_queue(graph::Graph{Y,T}, start_node_name::String) where {Y,T}\n",
    "    priority_queue = PriorityQueue{PriorityItem{TreeNode{Y}}}()\n",
    "    tree = Tree(name(graph), Vector{TreeNode{Y}}())\n",
    "    for node in nodes(graph)\n",
    "        if name(node) == start_node_name\n",
    "            blank_node = TreeNode(name(node), data(node))\n",
    "            priority_item = PriorityItem( 0 , blank_node)\n",
    "        else\n",
    "            blank_node = TreeNode(name(node), data(node))\n",
    "            priority_item = PriorityItem( Inf, blank_node)\n",
    "        end\n",
    "        add_node!(tree, blank_node)\n",
    "        push!(priority_queue, priority_item)\n",
    "    end\n",
    "    return priority_queue, tree\n",
    "end\n",
    "\n",
    "\"\"\"Implementation de l'algorithme de Prim\"\"\"\n",
    "function prims_algorithm(graph::Graph{Y,T}; start_node_name::Any = nothing) where {Y,T}\n",
    "    #initialisation\n",
    "    if isnothing(start_node_name)\n",
    "        start_node_name = name(nodes(graph)[1])\n",
    "    end\n",
    "    #initialisation de la file de priorite et du dictionaire d'adjacence\n",
    "    priority_queue, tree = prims_priority_queue(graph, start_node_name)\n",
    "    adjacency_list = adjacency_dict(graph, priority_queue)\n",
    "    #sauvegarde de la racine\n",
    "    root = poplast!(priority_queue)\n",
    "    priority_node = root\n",
    "    #boucle principale\n",
    "    while !is_empty(priority_queue)\n",
    "        for  (neighbor, edge_weight) in adjacency_list[priority_node]\n",
    "            #Met a jour la priorite du voisin si elle est dans le priority_que et elle est plus petite que la priorite actuelle\n",
    "            for item in priority_queue.items\n",
    "                if name(data(neighbor)) == name(data(item))\n",
    "                    if  edge_weight < priority(neighbor)\n",
    "                        change_parent!(tree, data(neighbor), data(priority_node))\n",
    "                        change_rank!( data(neighbor), edge_weight)\n",
    "                        priority!(neighbor, edge_weight)\n",
    "                    end\n",
    "                break\n",
    "                end\n",
    "            end\n",
    "        end\n",
    "        #prend le noeud avec la plus petite priorite\n",
    "        priority_node = poplast!(priority_queue)         \n",
    "    end\n",
    "    return tree, data(root)\n",
    "end"
   ]
  },
  {
   "cell_type": "code",
   "execution_count": 21,
   "metadata": {},
   "outputs": [],
   "source": [
    "graphe_test = Graph(\"Test\",Node{Vector{Float64}}[],Edge{Int,Vector{Float64}}[])\n",
    "\n",
    "#Nodes \n",
    "nodea = Node(\"a\",[0.])\n",
    "nodeb = Node(\"b\",[0.])\n",
    "nodec = Node(\"c\",[0.])\n",
    "noded = Node(\"d\",[0.])\n",
    "nodee = Node(\"e\",[0.])\n",
    "nodef = Node(\"f\",[0.])\n",
    "nodeg = Node(\"g\",[0.])\n",
    "nodeh = Node(\"h\",[0.])\n",
    "nodei = Node(\"i\",[0.])\n",
    "node_list = [nodea,nodeb,nodec, noded,nodee, nodef, \n",
    "                nodeg, nodeh, nodei]\n",
    "\n",
    "#Edges\n",
    "edge1 = Edge(nodea,nodeb, 4)\n",
    "edge2 = Edge(nodea,nodeh, 8)\n",
    "edge3 = Edge(nodeb, nodeh, 11)\n",
    "edge4 = Edge(nodeb, nodec, 8)\n",
    "edge5 = Edge(nodeh, nodei, 7)\n",
    "edge6 = Edge(nodeh, nodeg, 1)\n",
    "edge7 = Edge(nodeg, nodei, 6)\n",
    "edge8 = Edge(nodeg, nodef, 2)\n",
    "edge9 = Edge(nodec, nodef, 4)\n",
    "edge10 = Edge(nodei, nodec, 2)\n",
    "edge11 = Edge(nodef, nodee, 10)\n",
    "edge12 = Edge(nodee, noded, 9)\n",
    "edge13 = Edge(nodec,noded, 7)\n",
    "edge14 = Edge(noded, nodef, 14)\n",
    "edge_list = [edge1, edge2, edge3, edge4, edge5, edge6,\n",
    "                edge7, edge8, edge9, edge10, edge11,\n",
    "                edge12, edge13, edge14]\n",
    "\n",
    "##Construction du graphe\n",
    "for i in node_list\n",
    "    add_node!(graphe_test,i)\n",
    "end\n",
    "for i in edge_list\n",
    "    add_edge!(graphe_test, i)\n",
    "end\n"
   ]
  },
  {
   "cell_type": "code",
   "execution_count": 22,
   "metadata": {},
   "outputs": [
    {
     "name": "stdout",
     "output_type": "stream",
     "text": [
      "parent: TreeNode{Vector{Float64}}(\"a\", [0.0], nothing, [2, 8], 0, 1) child: TreeNode{Vector{Float64}}(\"h\", [0.0], 1, Int64[], 8, 8)\n",
      "parent: TreeNode{Vector{Float64}}(\"i\", [0.0], 3, [8, 7], 2, 9) child: TreeNode{Vector{Float64}}(\"g\", [0.0], 9, Int64[], 6, 7)\n",
      "parent: TreeNode{Vector{Float64}}(\"i\", [0.0], 3, [8], 2, 9) child: TreeNode{Vector{Float64}}(\"h\", [0.0], 9, Int64[], 7, 8)\n",
      "parent: TreeNode{Vector{Float64}}(\"f\", [0.0], 3, [5, 7], 4, 6) child: TreeNode{Vector{Float64}}(\"e\", [0.0], 6, Int64[], 10, 5)\n"
     ]
    },
    {
     "data": {
      "text/plain": [
       "(Tree{Vector{Float64}}(\"Test\", TreeNode{Vector{Float64}}[TreeNode{Vector{Float64}}(\"a\", [0.0], nothing, [2], 0, 1), TreeNode{Vector{Float64}}(\"b\", [0.0], 1, [3], 4, 2), TreeNode{Vector{Float64}}(\"c\", [0.0], 2, [6, 9, 4], 8, 3), TreeNode{Vector{Float64}}(\"d\", [0.0], 3, [5], 7, 4), TreeNode{Vector{Float64}}(\"e\", [0.0], 4, Int64[], 9, 5), TreeNode{Vector{Float64}}(\"f\", [0.0], 3, [7], 4, 6), TreeNode{Vector{Float64}}(\"g\", [0.0], 6, [8], 2, 7), TreeNode{Vector{Float64}}(\"h\", [0.0], 7, Int64[], 1, 8), TreeNode{Vector{Float64}}(\"i\", [0.0], 3, Int64[], 2, 9)]), TreeNode{Vector{Float64}}(\"a\", [0.0], nothing, [2], 0, 1))"
      ]
     },
     "metadata": {},
     "output_type": "display_data"
    }
   ],
   "source": [
    "priority_queue, tree = prims_priority_queue(graphe_test, \"a\")\n",
    "\n",
    "p_tree, root = prims_algorithm(graphe_test, start_node_name = \"a\")"
   ]
  },
  {
   "cell_type": "code",
   "execution_count": 24,
   "metadata": {},
   "outputs": [
    {
     "name": "stdout",
     "output_type": "stream",
     "text": [
      "Node a has  rank 0 and 1 children.\n",
      "It has no parent.\n",
      "Its children are: \n",
      "     b\n",
      "Node b has  rank 4 and 1 children.\n",
      "Its parent is a\n",
      "Its children are: \n",
      "     c\n",
      "Node c has  rank 8 and 3 children.\n",
      "Its parent is b\n",
      "Its children are: \n",
      "     f\n",
      "     i\n",
      "     d\n",
      "Node d has  rank 7 and 1 children.\n",
      "Its parent is c\n",
      "Its children are: \n",
      "     e\n",
      "Node e has  rank 9 and 0 children.\n",
      "Its parent is d\n",
      "It has no children.\n",
      "Node f has  rank 4 and 1 children.\n",
      "Its parent is c\n",
      "Its children are: \n",
      "     g\n",
      "Node g has  rank 2 and 1 children.\n",
      "Its parent is f\n",
      "Its children are: \n",
      "     h\n",
      "Node h has  rank 1 and 0 children.\n",
      "Its parent is g\n",
      "It has no children.\n",
      "Node i has  rank 2 and 0 children.\n",
      "Its parent is c\n",
      "It has no children.\n"
     ]
    }
   ],
   "source": [
    "show(p_tree)"
   ]
  }
 ],
 "metadata": {
  "kernelspec": {
   "display_name": "Julia 1.9.3",
   "language": "julia",
   "name": "julia-1.9"
  },
  "language_info": {
   "file_extension": ".jl",
   "mimetype": "application/julia",
   "name": "julia",
   "version": "1.9.3"
  }
 },
 "nbformat": 4,
 "nbformat_minor": 2
}
