{
 "cells": [
  {
   "cell_type": "code",
   "execution_count": 5,
   "metadata": {},
   "outputs": [
    {
     "data": {
      "text/plain": [
       "prims_algorithm"
      ]
     },
     "metadata": {},
     "output_type": "display_data"
    }
   ],
   "source": [
    "using BenchmarkTools\n",
    "using Combinatorics\n",
    "include(\"../phase1/node.jl\")\n",
    "include(\"../phase1/edges.jl\")\n",
    "include(\"../phase1/graph.jl\")\n",
    "include(\"../phase1/read_stsp.jl\")\n",
    "include(\"../phase2/comp_connexes.jl\")\n",
    "include(\"../phase1/main.jl\")\n",
    "include(\"../phase2/queue.jl\")\n",
    "include(\"../phase2/heuristics.jl\")\n",
    "include(\"../phase2/Kruskal.jl\")\n",
    "include(\"../phase2/prims_algorithm.jl\")"
   ]
  },
  {
   "cell_type": "code",
   "execution_count": 62,
   "metadata": {},
   "outputs": [
    {
     "name": "stdout",
     "output_type": "stream",
     "text": [
      "Node 1 has  rank 0 and 3 children.\n",
      "It has no parent.\n",
      "Its children are: \n",
      "     2\n",
      "     3\n",
      "     4\n",
      "Node 2 has  rank 0 and 0 children.\n",
      "Its parent is 1\n",
      "It has no children.\n",
      "Node 3 has  rank 0 and 0 children.\n",
      "Its parent is 1\n",
      "It has no children.\n",
      "Node 4 has  rank 0 and 2 children.\n",
      "Its parent is 1\n",
      "Its children are: \n",
      "     5\n",
      "     7\n",
      "Node 5 has  rank 0 and 1 children.\n",
      "Its parent is 4\n",
      "Its children are: \n",
      "     6\n",
      "Node 7 has  rank 0 and 0 children.\n",
      "Its parent is 4\n",
      "It has no children.\n",
      "Node 6 has  rank 0 and 0 children.\n",
      "Its parent is 5\n",
      "It has no children.\n"
     ]
    }
   ],
   "source": [
    "tree_root = TreeNode(\"1\", 0)\n",
    "child1 = TreeNode(\"2\", 0)\n",
    "child2 = TreeNode(\"3\", 0)\n",
    "child3 = TreeNode(\"4\", 0)\n",
    "child4 = TreeNode(\"5\",0)\n",
    "child5 = TreeNode(\"6\",0)\n",
    "child6 = TreeNode(\"7\",0)\n",
    "\n",
    "tree = Tree(\"test tree\", Vector{TreeNode{Int}}())\n",
    "\n",
    "first_row = [ child1, child2, child3]\n",
    "second_row = [child4, child6]\n",
    "add_node!(tree, tree_root)\n",
    "for child in first_row\n",
    "    add_node!(tree, child, parent = tree_root)\n",
    "end\n",
    "for child in second_row\n",
    "    add_node!(tree, child, parent = child3)\n",
    "end\n",
    "add_node!(tree, child5, parent = child4)\n",
    "show(tree)"
   ]
  },
  {
   "cell_type": "code",
   "execution_count": 63,
   "metadata": {},
   "outputs": [
    {
     "data": {
      "text/plain": [
       "TreeNode{Int64}(\"1\", 0, nothing, [2, 3, 4], 0, 1)"
      ]
     },
     "metadata": {},
     "output_type": "display_data"
    }
   ],
   "source": [
    "find_root(tree)"
   ]
  },
  {
   "cell_type": "code",
   "execution_count": 64,
   "metadata": {},
   "outputs": [
    {
     "data": {
      "text/plain": [
       "1-element Vector{Int64}:\n",
       " 7"
      ]
     },
     "metadata": {},
     "output_type": "display_data"
    }
   ],
   "source": [
    "children_loc(child4)"
   ]
  },
  {
   "cell_type": "code",
   "execution_count": 65,
   "metadata": {},
   "outputs": [
    {
     "name": "stdout",
     "output_type": "stream",
     "text": [
      "TreeNode{Int64}(\"1\", 0, nothing, [2, 3, 4], 0, 1)\n"
     ]
    }
   ],
   "source": [
    "println(tree_root)"
   ]
  },
  {
   "cell_type": "code",
   "execution_count": 66,
   "metadata": {},
   "outputs": [
    {
     "data": {
      "text/plain": [
       "TreeNode{Int64}(\"1\", 0, nothing, [2, 3], 1, 1)"
      ]
     },
     "metadata": {},
     "output_type": "display_data"
    }
   ],
   "source": [
    "n1= TreeNode(\"1\", 0)\n",
    "n2 = TreeNode(\"2\", 0)\n",
    "n3 = TreeNode(\"3\", 0)\n",
    "n4= TreeNode(\"4\", 0)\n",
    "t1 = Tree(\"test tree\" , Vector{TreeNode{Int}}())\n",
    "t1 = add_node!(t1, n1)\n",
    "t1 = add_node!(t1, n2, parent = n1)\n",
    "t1 = add_node!(t1, n3)\n",
    "t1 = add_node!(t1, n4, parent = n3)\n",
    "rank_union!(t1, n1, n3)\n"
   ]
  },
  {
   "cell_type": "code",
   "execution_count": 67,
   "metadata": {},
   "outputs": [
    {
     "name": "stdout",
     "output_type": "stream",
     "text": [
      "Node 1 has  rank 1 and 2 children.\n",
      "It has no parent.\n",
      "Its children are: \n",
      "     2\n",
      "     3\n",
      "Node 2 has  rank 0 and 0 children.\n",
      "Its parent is 1\n",
      "It has no children.\n",
      "Node 3 has  rank 0 and 1 children.\n",
      "Its parent is 1\n",
      "Its children are: \n",
      "     4\n",
      "Node 4 has  rank 0 and 0 children.\n",
      "Its parent is 3\n",
      "It has no children.\n"
     ]
    }
   ],
   "source": [
    "show(t1)"
   ]
  },
  {
   "cell_type": "code",
   "execution_count": 82,
   "metadata": {},
   "outputs": [
    {
     "data": {
      "text/plain": [
       "prims_algorithm"
      ]
     },
     "metadata": {},
     "output_type": "display_data"
    }
   ],
   "source": [
    "\"\"\"crée une liste d'adjacence a partir d'un graphe\"\"\"\n",
    "function adjacency_dict( graph::Graph) \n",
    "    #Dictionaire de adjacence\n",
    "    adj_dict = Dict()\n",
    "    #Dictionaire de correspondance entre les noeuds et les items de la file de priorite\n",
    "    correspondance_dict = Dict()\n",
    "    #Chaque noeud est une clef du dictionaire de adjacence\n",
    "    for (i, node) in enumerate(nodes(graph))\n",
    "        adj_dict[i] = Dict()\n",
    "        correspondance_dict[node] = i\n",
    "    end\n",
    "    #Ajoute les voisins de chaque noeud dans le dictionaire de adjacence\n",
    "    for edge in edges(graph)\n",
    "        node1, node2 = nodes(edge)\n",
    "        idx1 = correspondance_dict[node1]\n",
    "        idx2 = correspondance_dict[node2]\n",
    "        adj_dict[idx1][idx2] = weight(edge)\n",
    "        adj_dict[idx2][idx1] = weight(edge)\n",
    "    end\n",
    "    return adj_dict\n",
    "end\n",
    "\n",
    "\"\"\"Crée une file de priorite des arbres à partir d'un graphe. Le noeud de depart a une priorite de 0 et les autres ont une priorite de Inf\"\"\"\n",
    "function prims_priority_queue(graph::Graph{Y,T}, start_node_name::String) where {Y,T}\n",
    "    priority_queue = PriorityQueue{PriorityItem{TreeNode{Y}}}()\n",
    "    tree = Tree(name(graph), Vector{TreeNode{Y}}())\n",
    "    for node in nodes(graph)\n",
    "        if name(node) == start_node_name\n",
    "            blank_node = TreeNode(name(node), data(node))\n",
    "            priority_item = PriorityItem( 0 , blank_node)\n",
    "        else\n",
    "            blank_node = TreeNode(name(node), data(node))\n",
    "            priority_item = PriorityItem( Inf, blank_node)\n",
    "        end\n",
    "        add_node!(tree, blank_node)\n",
    "        push!(priority_queue, priority_item)\n",
    "    end\n",
    "    return priority_queue, tree\n",
    "end\n",
    "\n",
    "\"\"\"Implementation de l'algorithme de Prim\"\"\"\n",
    "function prims_algorithm(graph::Graph{Y,T}; start_node_name::Any = nothing) where {Y,T}\n",
    "    #initialisation\n",
    "    if isnothing(start_node_name)\n",
    "        start_node_name = name(nodes(graph)[1])\n",
    "    end\n",
    "    #initialisation de la file de priorite et du dictionaire d'adjacence\n",
    "    priority_queue, tree = prims_priority_queue(graph, start_node_name)\n",
    "    adjacency_list = adjacency_dict(graph)\n",
    "    #sauvegarde de la racine\n",
    "    root = poplast!(priority_queue)\n",
    "    priority_node = root\n",
    "    #boucle principale\n",
    "    while !is_empty(priority_queue)\n",
    "        for  (neighbor_idx, edge_weight) in adjacency_list[index(data(priority_node))]\n",
    "            #Met a jour la priorite du voisin si elle est dans le priority_que et elle est plus petite que la priorite actuelle\n",
    "            for item in priority_queue.items\n",
    "                #println(\"nodes(tree)[neighbor_idx] = \", nodes(tree)[neighbor_idx])\n",
    "                if index(data(item)) == neighbor_idx\n",
    "                    if  edge_weight < priority(item)\n",
    "                        change_parent!(tree, nodes(tree)[neighbor_idx], data(priority_node))\n",
    "                        change_rank!( nodes(tree)[neighbor_idx], edge_weight)\n",
    "                        priority!(item, edge_weight)\n",
    "                    end\n",
    "                break\n",
    "                end\n",
    "            end\n",
    "        end\n",
    "        #prend le noeud avec la plus petite priorite\n",
    "        priority_node = poplast!(priority_queue)         \n",
    "    end\n",
    "    return tree, data(root)\n",
    "end"
   ]
  },
  {
   "cell_type": "code",
   "execution_count": 83,
   "metadata": {},
   "outputs": [],
   "source": [
    "graphe_test = Graph(\"Test\",Node{Vector{Float64}}[],Edge{Int,Vector{Float64}}[])\n",
    "\n",
    "#Nodes \n",
    "nodea = Node(\"a\",[0.])\n",
    "nodeb = Node(\"b\",[0.])\n",
    "nodec = Node(\"c\",[0.])\n",
    "noded = Node(\"d\",[0.])\n",
    "nodee = Node(\"e\",[0.])\n",
    "nodef = Node(\"f\",[0.])\n",
    "nodeg = Node(\"g\",[0.])\n",
    "nodeh = Node(\"h\",[0.])\n",
    "nodei = Node(\"i\",[0.])\n",
    "node_list = [nodea,nodeb,nodec, noded,nodee, nodef, \n",
    "                nodeg, nodeh, nodei]\n",
    "\n",
    "#Edges\n",
    "edge1 = Edge(nodea,nodeb, 4)\n",
    "edge2 = Edge(nodea,nodeh, 8)\n",
    "edge3 = Edge(nodeb, nodeh, 11)\n",
    "edge4 = Edge(nodeb, nodec, 8)\n",
    "edge5 = Edge(nodeh, nodei, 7)\n",
    "edge6 = Edge(nodeh, nodeg, 1)\n",
    "edge7 = Edge(nodeg, nodei, 6)\n",
    "edge8 = Edge(nodeg, nodef, 2)\n",
    "edge9 = Edge(nodec, nodef, 4)\n",
    "edge10 = Edge(nodei, nodec, 2)\n",
    "edge11 = Edge(nodef, nodee, 10)\n",
    "edge12 = Edge(nodee, noded, 9)\n",
    "edge13 = Edge(nodec,noded, 7)\n",
    "edge14 = Edge(noded, nodef, 14)\n",
    "edge_list = [edge1, edge2, edge3, edge4, edge5, edge6,\n",
    "                edge7, edge8, edge9, edge10, edge11,\n",
    "                edge12, edge13, edge14]\n",
    "\n",
    "##Construction du graphe\n",
    "for i in node_list\n",
    "    add_node!(graphe_test,i)\n",
    "end\n",
    "for i in edge_list\n",
    "    add_edge!(graphe_test, i)\n",
    "end\n"
   ]
  },
  {
   "cell_type": "code",
   "execution_count": 84,
   "metadata": {},
   "outputs": [
    {
     "data": {
      "text/plain": [
       "BenchmarkTools.Trial: 10000 samples with 1 evaluation.\n",
       " Range \u001b[90m(\u001b[39m\u001b[36m\u001b[1mmin\u001b[22m\u001b[39m … \u001b[35mmax\u001b[39m\u001b[90m):  \u001b[39m\u001b[36m\u001b[1m20.875 μs\u001b[22m\u001b[39m … \u001b[35m 2.767 ms\u001b[39m  \u001b[90m┊\u001b[39m GC \u001b[90m(\u001b[39mmin … max\u001b[90m): \u001b[39m0.00% … 98.16%\n",
       " Time  \u001b[90m(\u001b[39m\u001b[34m\u001b[1mmedian\u001b[22m\u001b[39m\u001b[90m):     \u001b[39m\u001b[34m\u001b[1m21.709 μs              \u001b[22m\u001b[39m\u001b[90m┊\u001b[39m GC \u001b[90m(\u001b[39mmedian\u001b[90m):    \u001b[39m0.00%\n",
       " Time  \u001b[90m(\u001b[39m\u001b[32m\u001b[1mmean\u001b[22m\u001b[39m ± \u001b[32mσ\u001b[39m\u001b[90m):   \u001b[39m\u001b[32m\u001b[1m23.457 μs\u001b[22m\u001b[39m ± \u001b[32m60.183 μs\u001b[39m  \u001b[90m┊\u001b[39m GC \u001b[90m(\u001b[39mmean ± σ\u001b[90m):  \u001b[39m5.67% ±  2.19%\n",
       "\n",
       "  \u001b[39m \u001b[39m \u001b[39m \u001b[39m▄\u001b[39m█\u001b[39m█\u001b[39m▆\u001b[34m▃\u001b[39m\u001b[39m \u001b[39m \u001b[39m \u001b[39m \u001b[39m \u001b[39m \u001b[39m \u001b[39m \u001b[39m \u001b[39m \u001b[39m \u001b[39m \u001b[32m \u001b[39m\u001b[39m \u001b[39m \u001b[39m \u001b[39m \u001b[39m \u001b[39m \u001b[39m \u001b[39m \u001b[39m \u001b[39m \u001b[39m \u001b[39m \u001b[39m \u001b[39m \u001b[39m \u001b[39m \u001b[39m \u001b[39m \u001b[39m \u001b[39m \u001b[39m \u001b[39m \u001b[39m \u001b[39m \u001b[39m \u001b[39m \u001b[39m \u001b[39m \u001b[39m \u001b[39m \u001b[39m \u001b[39m \u001b[39m \u001b[39m \u001b[39m \u001b[39m \u001b[39m \u001b[39m \u001b[39m \u001b[39m \n",
       "  \u001b[39m▁\u001b[39m▃\u001b[39m▇\u001b[39m█\u001b[39m█\u001b[39m█\u001b[39m█\u001b[34m█\u001b[39m\u001b[39m█\u001b[39m▆\u001b[39m▅\u001b[39m▅\u001b[39m▄\u001b[39m▄\u001b[39m▃\u001b[39m▃\u001b[39m▂\u001b[39m▂\u001b[39m▂\u001b[39m▂\u001b[32m▂\u001b[39m\u001b[39m▂\u001b[39m▁\u001b[39m▁\u001b[39m▁\u001b[39m▁\u001b[39m▁\u001b[39m▁\u001b[39m▁\u001b[39m▁\u001b[39m▁\u001b[39m▁\u001b[39m▁\u001b[39m▁\u001b[39m▁\u001b[39m▁\u001b[39m▁\u001b[39m▁\u001b[39m▁\u001b[39m▁\u001b[39m▁\u001b[39m▁\u001b[39m▁\u001b[39m▁\u001b[39m▁\u001b[39m▁\u001b[39m▁\u001b[39m▁\u001b[39m▁\u001b[39m▁\u001b[39m▁\u001b[39m▁\u001b[39m▁\u001b[39m▁\u001b[39m▁\u001b[39m▁\u001b[39m▁\u001b[39m▁\u001b[39m▁\u001b[39m \u001b[39m▂\n",
       "  20.9 μs\u001b[90m         Histogram: frequency by time\u001b[39m        28.4 μs \u001b[0m\u001b[1m<\u001b[22m\n",
       "\n",
       " Memory estimate\u001b[90m: \u001b[39m\u001b[33m24.94 KiB\u001b[39m, allocs estimate\u001b[90m: \u001b[39m\u001b[33m381\u001b[39m."
      ]
     },
     "metadata": {},
     "output_type": "display_data"
    }
   ],
   "source": [
    "priority_queue, tree = prims_priority_queue(graphe_test, \"a\")\n",
    "\n",
    "@benchmark p_tree, root = prims_algorithm(graphe_test, start_node_name = \"a\")"
   ]
  },
  {
   "cell_type": "code",
   "execution_count": 86,
   "metadata": {},
   "outputs": [
    {
     "data": {
      "text/plain": [
       "BenchmarkTools.Trial: 7015 samples with 1 evaluation.\n",
       " Range \u001b[90m(\u001b[39m\u001b[36m\u001b[1mmin\u001b[22m\u001b[39m … \u001b[35mmax\u001b[39m\u001b[90m):  \u001b[39m\u001b[36m\u001b[1m657.542 μs\u001b[22m\u001b[39m … \u001b[35m  3.244 ms\u001b[39m  \u001b[90m┊\u001b[39m GC \u001b[90m(\u001b[39mmin … max\u001b[90m): \u001b[39m0.00% … 77.51%\n",
       " Time  \u001b[90m(\u001b[39m\u001b[34m\u001b[1mmedian\u001b[22m\u001b[39m\u001b[90m):     \u001b[39m\u001b[34m\u001b[1m697.916 μs               \u001b[22m\u001b[39m\u001b[90m┊\u001b[39m GC \u001b[90m(\u001b[39mmedian\u001b[90m):    \u001b[39m0.00%\n",
       " Time  \u001b[90m(\u001b[39m\u001b[32m\u001b[1mmean\u001b[22m\u001b[39m ± \u001b[32mσ\u001b[39m\u001b[90m):   \u001b[39m\u001b[32m\u001b[1m711.963 μs\u001b[22m\u001b[39m ± \u001b[32m103.443 μs\u001b[39m  \u001b[90m┊\u001b[39m GC \u001b[90m(\u001b[39mmean ± σ\u001b[90m):  \u001b[39m0.54% ±  3.05%\n",
       "\n",
       "  \u001b[39m \u001b[39m \u001b[39m \u001b[39m \u001b[39m \u001b[39m▁\u001b[39m▁\u001b[39m▁\u001b[39m \u001b[39m \u001b[39m \u001b[39m▃\u001b[39m▄\u001b[39m█\u001b[34m▆\u001b[39m\u001b[39m▄\u001b[39m \u001b[39m \u001b[39m \u001b[32m \u001b[39m\u001b[39m \u001b[39m \u001b[39m \u001b[39m \u001b[39m \u001b[39m \u001b[39m \u001b[39m \u001b[39m \u001b[39m \u001b[39m \u001b[39m \u001b[39m \u001b[39m \u001b[39m \u001b[39m \u001b[39m \u001b[39m \u001b[39m \u001b[39m \u001b[39m \u001b[39m \u001b[39m \u001b[39m \u001b[39m \u001b[39m \u001b[39m \u001b[39m \u001b[39m \u001b[39m \u001b[39m \u001b[39m \u001b[39m \u001b[39m \u001b[39m \u001b[39m \u001b[39m \u001b[39m \u001b[39m \u001b[39m \u001b[39m \u001b[39m \u001b[39m \n",
       "  \u001b[39m▁\u001b[39m▁\u001b[39m▁\u001b[39m▃\u001b[39m▅\u001b[39m█\u001b[39m█\u001b[39m█\u001b[39m█\u001b[39m▇\u001b[39m█\u001b[39m█\u001b[39m█\u001b[39m█\u001b[34m█\u001b[39m\u001b[39m█\u001b[39m▇\u001b[39m▅\u001b[39m▅\u001b[32m▄\u001b[39m\u001b[39m▃\u001b[39m▄\u001b[39m▃\u001b[39m▃\u001b[39m▃\u001b[39m▃\u001b[39m▃\u001b[39m▃\u001b[39m▄\u001b[39m▆\u001b[39m▅\u001b[39m▄\u001b[39m▄\u001b[39m▃\u001b[39m▃\u001b[39m▃\u001b[39m▃\u001b[39m▂\u001b[39m▂\u001b[39m▂\u001b[39m▂\u001b[39m▂\u001b[39m▂\u001b[39m▁\u001b[39m▁\u001b[39m▁\u001b[39m▁\u001b[39m▁\u001b[39m▁\u001b[39m▁\u001b[39m▁\u001b[39m▁\u001b[39m▁\u001b[39m▁\u001b[39m▁\u001b[39m▁\u001b[39m▁\u001b[39m▁\u001b[39m▁\u001b[39m▁\u001b[39m▁\u001b[39m \u001b[39m▃\n",
       "  658 μs\u001b[90m           Histogram: frequency by time\u001b[39m          829 μs \u001b[0m\u001b[1m<\u001b[22m\n",
       "\n",
       " Memory estimate\u001b[90m: \u001b[39m\u001b[33m70.77 KiB\u001b[39m, allocs estimate\u001b[90m: \u001b[39m\u001b[33m1533\u001b[39m."
      ]
     },
     "metadata": {},
     "output_type": "display_data"
    }
   ],
   "source": [
    "@benchmark kruskal(graphe_test)"
   ]
  },
  {
   "cell_type": "code",
   "execution_count": 76,
   "metadata": {},
   "outputs": [
    {
     "name": "stdout",
     "output_type": "stream",
     "text": [
      "  0.000111 seconds (383 allocations: 25.000 KiB)\n"
     ]
    },
    {
     "data": {
      "text/plain": [
       "(Tree{Vector{Float64}}(\"Test\", TreeNode{Vector{Float64}}[TreeNode{Vector{Float64}}(\"a\", [0.0], nothing, [2], 0, 1), TreeNode{Vector{Float64}}(\"b\", [0.0], 1, [3], 4, 2), TreeNode{Vector{Float64}}(\"c\", [0.0], 2, [4, 6, 9], 8, 3), TreeNode{Vector{Float64}}(\"d\", [0.0], 3, [5], 7, 4), TreeNode{Vector{Float64}}(\"e\", [0.0], 4, Int64[], 9, 5), TreeNode{Vector{Float64}}(\"f\", [0.0], 3, [7], 4, 6), TreeNode{Vector{Float64}}(\"g\", [0.0], 6, [8], 2, 7), TreeNode{Vector{Float64}}(\"h\", [0.0], 7, Int64[], 1, 8), TreeNode{Vector{Float64}}(\"i\", [0.0], 3, Int64[], 2, 9)]), TreeNode{Vector{Float64}}(\"a\", [0.0], nothing, [2], 0, 1))"
      ]
     },
     "metadata": {},
     "output_type": "display_data"
    }
   ],
   "source": [
    "@time p_tree1, root1 = prims_algorithm(graphe_test, start_node_name = \"a\")"
   ]
  },
  {
   "cell_type": "code",
   "execution_count": 77,
   "metadata": {},
   "outputs": [
    {
     "name": "stdout",
     "output_type": "stream",
     "text": [
      "Reading of header : ✓\n",
      "Reading of nodes : ✓\n",
      "Reading of edges : ✓\n",
      "running Prim's algorithm on swiss42\n",
      "  0.001385 seconds (8.58 k allocations: 379.781 KiB)"
     ]
    },
    {
     "name": "stdout",
     "output_type": "stream",
     "text": [
      "\n"
     ]
    },
    {
     "data": {
      "text/plain": [
       "1079.0"
      ]
     },
     "metadata": {},
     "output_type": "display_data"
    }
   ],
   "source": [
    "swiss_42_graph, swiss_42_nodes = graph_from_tsp(\"../../instances/stsp/swiss42.tsp\",\"graphe1\")\n",
    "println(\"running Prim's algorithm on swiss42\")\n",
    "@time swiss_42_tree, root2 = prims_algorithm(swiss_42_graph)\n",
    "swiss_42_graph = tree_to_graph(swiss_42_tree, root2)\n",
    "sum_of_weights(swiss_42_graph)"
   ]
  },
  {
   "cell_type": "code",
   "execution_count": 79,
   "metadata": {},
   "outputs": [
    {
     "name": "stdout",
     "output_type": "stream",
     "text": [
      "Reading of header : ✓\n",
      "Reading of nodes : ✓\n",
      "Reading of edges : ✓\n",
      "running Prim's algorithm\n",
      "  0.000698 seconds (4.42 k allocations: 214.234 KiB)\n"
     ]
    },
    {
     "data": {
      "text/plain": [
       "1557.0"
      ]
     },
     "metadata": {},
     "output_type": "display_data"
    }
   ],
   "source": [
    "graphe1, graphe1_nodes = graph_from_tsp(\"../../instances/stsp/bays29.tsp\",\"graphe1\")\n",
    "println(\"running Prim's algorithm\")\n",
    "@time bays_29_tree, root3 = prims_algorithm(graphe1)\n",
    "bays_29_graph = tree_to_graph(bays_29_tree, root3)\n",
    "\n",
    "sum_of_weights(bays_29_graph)"
   ]
  },
  {
   "cell_type": "markdown",
   "metadata": {},
   "source": [
    "## Algorithm de Held et Karp "
   ]
  },
  {
   "cell_type": "code",
   "execution_count": 2,
   "metadata": {},
   "outputs": [
    {
     "data": {
      "text/plain": [
       "31-element Vector{Vector{Int64}}:\n",
       " [1]\n",
       " [2]\n",
       " [3]\n",
       " [4]\n",
       " [5]\n",
       " [1, 2]\n",
       " [1, 3]\n",
       " [1, 4]\n",
       " [1, 5]\n",
       " [2, 3]\n",
       " ⋮\n",
       " [2, 3, 5]\n",
       " [2, 4, 5]\n",
       " [3, 4, 5]\n",
       " [1, 2, 3, 4]\n",
       " [1, 2, 3, 5]\n",
       " [1, 2, 4, 5]\n",
       " [1, 3, 4, 5]\n",
       " [2, 3, 4, 5]\n",
       " [1, 2, 3, 4, 5]"
      ]
     },
     "metadata": {},
     "output_type": "display_data"
    }
   ],
   "source": [
    "a = [1,2,3,4,5]\n",
    "b = collect(combinations(a))\n",
    "b"
   ]
  },
  {
   "cell_type": "code",
   "execution_count": 3,
   "metadata": {},
   "outputs": [
    {
     "data": {
      "text/plain": [
       "Graph{Vector{Float64}, Int64}(\"Test\", Node{Vector{Float64}}[Node{Vector{Float64}}(\"a\", [0.0]), Node{Vector{Float64}}(\"b\", [0.0]), Node{Vector{Float64}}(\"c\", [0.0]), Node{Vector{Float64}}(\"d\", [0.0]), Node{Vector{Float64}}(\"e\", [0.0])], Edge{Int64, Vector{Float64}}[Edge{Int64, Vector{Float64}}(Node{Vector{Float64}}(\"a\", [0.0]), Node{Vector{Float64}}(\"b\", [0.0]), 4), Edge{Int64, Vector{Float64}}(Node{Vector{Float64}}(\"a\", [0.0]), Node{Vector{Float64}}(\"c\", [0.0]), 8), Edge{Int64, Vector{Float64}}(Node{Vector{Float64}}(\"a\", [0.0]), Node{Vector{Float64}}(\"d\", [0.0]), 11), Edge{Int64, Vector{Float64}}(Node{Vector{Float64}}(\"a\", [0.0]), Node{Vector{Float64}}(\"e\", [0.0]), 8), Edge{Int64, Vector{Float64}}(Node{Vector{Float64}}(\"b\", [0.0]), Node{Vector{Float64}}(\"c\", [0.0]), 7), Edge{Int64, Vector{Float64}}(Node{Vector{Float64}}(\"b\", [0.0]), Node{Vector{Float64}}(\"d\", [0.0]), 1), Edge{Int64, Vector{Float64}}(Node{Vector{Float64}}(\"b\", [0.0]), Node{Vector{Float64}}(\"e\", [0.0]), 6), Edge{Int64, Vector{Float64}}(Node{Vector{Float64}}(\"c\", [0.0]), Node{Vector{Float64}}(\"d\", [0.0]), 2), Edge{Int64, Vector{Float64}}(Node{Vector{Float64}}(\"c\", [0.0]), Node{Vector{Float64}}(\"e\", [0.0]), 4), Edge{Int64, Vector{Float64}}(Node{Vector{Float64}}(\"d\", [0.0]), Node{Vector{Float64}}(\"e\", [0.0]), 7)])"
      ]
     },
     "metadata": {},
     "output_type": "display_data"
    }
   ],
   "source": [
    "nodea = Node(\"a\",[0.])\n",
    "nodeb = Node(\"b\",[0.])\n",
    "nodec = Node(\"c\",[0.])\n",
    "noded = Node(\"d\",[0.])\n",
    "nodee = Node(\"e\",[0.])\n",
    "node_list = [nodea,nodeb,nodec, noded,nodee]\n",
    "#Edges are fully connected\n",
    "edge1 = Edge(nodea,nodeb, 4)\n",
    "edge2 = Edge(nodea,nodec, 8)\n",
    "edge3 = Edge(nodea, noded, 11)\n",
    "edge4 = Edge(nodea, nodee, 8)\n",
    "edge5 = Edge(nodeb, nodec, 7)\n",
    "edge6 = Edge(nodeb, noded, 1)\n",
    "edge7 = Edge(nodeb, nodee, 6)\n",
    "edge8 = Edge(nodec, noded, 2)\n",
    "edge9 = Edge(nodec, nodee, 4)\n",
    "edge10 = Edge(noded, nodee, 7)\n",
    "edge_list = [edge1, edge2, edge3, edge4, edge5, edge6,\n",
    "                edge7, edge8, edge9, edge10]\n",
    "\n",
    "tsp_test = Graph(\"Test\",node_list,edge_list)\n",
    "tsp_test\n"
   ]
  },
  {
   "cell_type": "code",
   "execution_count": 26,
   "metadata": {},
   "outputs": [
    {
     "name": "stdout",
     "output_type": "stream",
     "text": [
      "distance = 19\n",
      "distance = 19\n",
      "distance = 24\n",
      "distance = 27\n",
      "distance = 19\n"
     ]
    },
    {
     "data": {
      "text/plain": [
       "(19, [1, 5, 3, 4, 2, 1])"
      ]
     },
     "metadata": {},
     "output_type": "display_data"
    }
   ],
   "source": [
    "function h_k_algorithm(g::Graph ; start_node_name::Any = nothing)\n",
    "    #if no start node name, first node is start node\n",
    "    if isnothing(start_node_name)\n",
    "        start_node_name = name(nodes(g)[1])\n",
    "    end\n",
    "    #move start node to first position of graph\n",
    "    for (i, node) in enumerate(nodes(g))\n",
    "        if name(node) == start_node_name\n",
    "            g.nodes[1], g.nodes[i] = g.nodes[i], g.nodes[1]\n",
    "            break\n",
    "        end\n",
    "    end\n",
    "    #create adjacency list\n",
    "    adjacency_list = adjacency_dict(g)\n",
    "    distance_dict = Dict()\n",
    "    for k in 2:length(nodes(g))\n",
    "        distance_dict[(Set([k]), k)] = Dict(\"c\" =>adjacency_list[1][k], \"p\"=> [1, k])\n",
    "    end\n",
    "    #println(\"distance_dict = \", distance_dict)\n",
    "    for s in 2:length(nodes(g))-1\n",
    "        for subset in combinations(2:length(nodes(g)), s)\n",
    "            \n",
    "            for k in subset\n",
    "                min_dist = Inf\n",
    "                for m in subset \n",
    "                    if m !=k\n",
    "                        # println(\"k = \", k)\n",
    "                        # println(\"m = \", m)\n",
    "                        # println(\"subset = \", subset)\n",
    "                        # #prints out the distance Dict\n",
    "                        # for key in keys(distance_dict)\n",
    "                        #     println(\"key = \", key)\n",
    "                        #     println(\"value = \", distance_dict[key])\n",
    "                        # end\n",
    "                        predecessor = distance_dict[(setdiff(Set(subset), Set([k])), m)]\n",
    "                        #println(\"predecessor\", predecessor)\n",
    "                        dist = predecessor[\"c\"] + adjacency_list[m][k]\n",
    "                        if dist < min_dist\n",
    "                            min_dist = dist\n",
    "                            min_m = m\n",
    "                            new_list = copy(predecessor[\"p\"])\n",
    "                            append!(new_list, k)\n",
    "                            distance_dict[(Set(subset), k)] = Dict(\"c\" => min_dist, \"p\" => new_list)\n",
    "                        end\n",
    "                    end\n",
    "                end\n",
    "            end\n",
    "        end\n",
    "    end\n",
    "\n",
    "    #returns the minimum path from the start node that goes to all of the other paths\n",
    "    min = Inf\n",
    "    final_path = []\n",
    "    for k in 2:length(nodes(g))\n",
    "        distance = distance_dict[(Set(2:length(nodes(g))), k)][\"c\"] + adjacency_list[k][1]\n",
    "        println(\"distance = \", distance)\n",
    "        if distance < min\n",
    "            println(\"distance = \", distance)\n",
    "            min = distance\n",
    "            final_path = copy(distance_dict[(Set(2:length(nodes(g))), k)][\"p\"])\n",
    "            append!(final_path, 1)\n",
    "        end\n",
    "    end\n",
    "    return min, final_path\n",
    "end\n",
    "\n",
    "\n",
    "h_k_algorithm(tsp_test)\n"
   ]
  },
  {
   "cell_type": "code",
   "execution_count": 34,
   "metadata": {},
   "outputs": [
    {
     "name": "stdout",
     "output_type": "stream",
     "text": [
      "permutation[1, 2, 3, 4, 5]\n",
      "dist = 28\n",
      "permutation[1, 2, 3, 5, 4]\n",
      "dist = 33\n",
      "permutation[1, 2, 4, 3, 5]\n",
      "dist = 19\n",
      "permutation[1, 2, 4, 5, 3]\n",
      "dist = 24\n",
      "permutation[1, 2, 5, 3, 4]\n",
      "dist = 27\n",
      "permutation[1, 2, 5, 4, 3]\n",
      "dist = 27\n",
      "permutation[1, 3, 2, 4, 5]\n",
      "dist = 31\n",
      "permutation[1, 3, 2, 5, 4]\n",
      "dist = 39\n",
      "permutation[1, 3, 4, 2, 5]\n",
      "dist = 25\n",
      "permutation[1, 3, 4, 5, 2]\n",
      "dist = 27\n",
      "permutation[1, 3, 5, 2, 4]\n",
      "dist = 30\n",
      "permutation[1, 3, 5, 4, 2]\n",
      "dist = 24\n",
      "permutation[1, 4, 2, 3, 5]\n",
      "dist = 31\n",
      "permutation[1, 4, 2, 5, 3]\n",
      "dist = 30\n",
      "permutation[1, 4, 3, 2, 5]\n",
      "dist = 34\n",
      "permutation[1, 4, 3, 5, 2]\n",
      "dist = 27\n",
      "permutation[1, 4, 5, 2, 3]\n",
      "dist = 39\n",
      "permutation[1, 4, 5, 3, 2]\n",
      "dist = 33\n",
      "permutation[1, 5, 2, 3, 4]\n",
      "dist = 34\n",
      "permutation[1, 5, 2, 4, 3]\n",
      "dist = 25\n",
      "permutation[1, 5, 3, 2, 4]\n",
      "dist = 31\n",
      "permutation[1, 5, 3, 4, 2]\n",
      "dist = 19\n",
      "permutation[1, 5, 4, 2, 3]\n",
      "dist = 31\n",
      "permutation[1, 5, 4, 3, 2]\n",
      "dist = 28\n",
      "permutation[2, 1, 3, 4, 5]\n",
      "dist = 27\n",
      "permutation[2, 1, 3, 5, 4]\n",
      "dist = 24\n",
      "permutation[2, 1, 4, 3, 5]\n",
      "dist = 27\n",
      "permutation[2, 1, 4, 5, 3]\n",
      "dist = 33\n",
      "permutation[2, 1, 5, 3, 4]\n",
      "dist = 19\n",
      "permutation[2, 1, 5, 4, 3]\n",
      "dist = 28\n",
      "permutation[2, 3, 1, 4, 5]\n",
      "dist = 39\n",
      "permutation[2, 3, 1, 5, 4]\n",
      "dist = 31\n",
      "permutation[2, 3, 4, 1, 5]\n",
      "dist = 34\n",
      "permutation[2, 3, 4, 5, 1"
     ]
    },
    {
     "name": "stdout",
     "output_type": "stream",
     "text": [
      "]\n",
      "dist = 28\n",
      "permutation[2, 3, 5, 1, 4]\n",
      "dist = 31\n",
      "permutation[2, 3, 5, 4, 1]\n",
      "dist = 33\n",
      "permutation[2, 4, 1, 3, 5]\n",
      "dist = 30\n",
      "permutation[2, 4, 1, 5, 3]\n",
      "dist = 31\n",
      "permutation[2, 4, 3, 1, 5]\n",
      "dist = 25\n",
      "permutation[2, 4, 3, 5, 1]\n",
      "dist = 19\n",
      "permutation[2, 4, 5, 1, 3]\n",
      "dist = 31\n",
      "permutation[2, 4, 5, 3, 1]\n",
      "dist = 24\n",
      "permutation[2, 5, 1, 3, 4]\n",
      "dist = 25\n",
      "permutation[2, 5, 1, 4, 3]\n",
      "dist = 34\n",
      "permutation[2, 5, 3, 1, 4]\n",
      "dist = 30\n",
      "permutation[2, 5, 3, 4, 1]\n",
      "dist = 27\n",
      "permutation[2, 5, 4, 1, 3]\n",
      "dist = 39\n",
      "permutation[2, 5, 4, 3, 1]\n",
      "dist = 27\n",
      "permutation[3, 1, 2, 4, 5]\n",
      "dist = 24\n",
      "permutation[3, 1, 2, 5, 4]\n",
      "dist = 27\n",
      "permutation[3, 1, 4, 2, 5]\n",
      "dist = 30\n",
      "permutation[3, 1, 4, 5, 2]\n",
      "dist = 39\n",
      "permutation[3, 1, 5, 2, 4]\n",
      "dist = 25\n",
      "permutation[3, 1, 5, 4, 2]\n",
      "dist = 31\n",
      "permutation[3, 2, 1, 4, 5]\n",
      "dist = 33\n",
      "permutation[3, 2, 1, 5, 4]\n",
      "dist = 28\n",
      "permutation[3, 2, 4, 1, 5]\n",
      "dist = 31\n",
      "permutation[3, 2, 4, 5, 1]\n",
      "dist = 31\n",
      "permutation[3, 2, 5, 1, 4]\n",
      "dist = 34\n",
      "permutation[3, 2, 5, 4, 1]\n",
      "dist = 39\n",
      "permutation[3, 4, 1, 2, 5]\n",
      "dist = 27\n",
      "permutation[3, 4, 1, 5, 2]\n",
      "dist = 34\n",
      "permutation[3, 4, 2, 1, 5]\n",
      "dist = 19\n",
      "permutation[3, 4, 2, 5, 1]\n",
      "dist = 25\n",
      "permutation[3, 4, 5, 1, 2]\n",
      "dist = 28\n",
      "permutation[3, 4, 5, 2, 1]\n",
      "dist = 27\n",
      "permutation[3, 5, 1, 2, 4]\n",
      "dist = 19\n",
      "permutation[3, 5, 1, 4, 2]\n",
      "dist = 31\n",
      "permutation[3, 5, 2, 1, 4]\n",
      "dist = 27\n",
      "permutation[3, 5, 2, 4, 1]\n",
      "dist = 30\n",
      "permutation[3, 5, 4, 1, 2]\n",
      "dist = 33\n",
      "permutation[3, 5, 4, 2, 1]\n",
      "dist = 24\n",
      "permutation[4, 1, 2, 3, 5]\n",
      "dist = 33\n",
      "permutation[4, 1, 2, 5, 3]\n",
      "dist = 27\n",
      "permutation[4, 1, 3, 2, 5]\n",
      "dist = 39\n",
      "permutation[4, 1, 3, 5, 2]\n",
      "dist = 30\n",
      "permutation[4, 1, 5, 2, 3]\n",
      "dist = 34\n",
      "permutation[4, 1, 5, 3, 2]\n",
      "dist = 31\n",
      "permutation[4, 2, 1, 3, 5]\n",
      "dist = 24\n",
      "permutation[4, 2, 1, 5, 3]\n",
      "dist = 19\n",
      "permutation[4, 2, 3, 1, 5]\n",
      "dist = 31\n",
      "permutation[4, 2, 3, 5, 1]\n",
      "dist = 31\n",
      "permutation[4, 2, 5, 1, 3]\n",
      "dist = 25\n",
      "permutation[4, 2, 5, 3, 1]\n",
      "dist = 30\n",
      "permutation[4, 3, 1, 2, 5]\n",
      "dist = 27\n",
      "permutation[4, 3, 1, 5, 2]\n",
      "dist = 25\n",
      "permutation[4, 3, 2, 1, 5]\n",
      "dist = 28\n",
      "permutation[4, 3, 2, 5, 1]\n",
      "dist = 34\n",
      "permutation[4, 3, 5, 1, 2]\n",
      "dist = 19\n",
      "permutation[4, 3, 5, 2, 1]\n",
      "dist = 27\n",
      "permutation[4, 5, 1, 2, 3]\n",
      "dist = 28\n",
      "permutation[4, 5, 1, 3, 2]\n",
      "dist = 31\n",
      "permutation[4, 5, 2, 1, 3]\n",
      "dist = 27\n",
      "permutation[4, 5, 2, 3, 1]\n",
      "dist = 39\n",
      "permutation[4, 5, 3, 1, 2]\n",
      "dist = 24\n",
      "permutation[4, 5, 3, 2, 1]\n",
      "dist = 33\n",
      "permutation[5, 1, 2, 3, 4]\n",
      "dist = 28\n",
      "permutation[5, 1, 2, 4, 3]\n",
      "dist = 19\n",
      "permutation[5, 1, 3, 2, 4]\n",
      "dist = 31\n",
      "permutation[5, 1, 3, 4, 2]\n",
      "dist = 25\n",
      "permutation[5, 1, 4, 2, 3]\n",
      "dist = 31\n",
      "permutation[5, 1, 4, 3, 2]\n",
      "dist = 34\n",
      "permutation[5, 2, 1, 3, 4]\n",
      "dist = 27\n",
      "permutation[5, 2, 1, 4, 3]\n",
      "dist = 27\n",
      "permutation[5, 2, 3, 1, 4]\n",
      "dist = 39\n",
      "permutation[5, 2, 3, 4, 1]\n",
      "dist = 34\n",
      "permutation[5, 2, 4, 1, 3]\n",
      "dist = 30\n",
      "permutation[5, 2, 4, 3, 1]\n",
      "dist = 25\n",
      "permutation[5, 3, 1, 2, 4]\n",
      "dist = 24\n",
      "permutation[5, 3, 1, 4, 2]\n",
      "dist = 30\n",
      "permutation[5, 3, 2, 1, 4]\n",
      "dist = 33\n",
      "permutation[5, 3, 2, 4, 1]\n",
      "dist = 31\n",
      "permutation[5, 3, 4, 1, 2]\n",
      "dist = 27\n",
      "permutation[5, 3, 4, 2, 1]\n",
      "dist = 19\n",
      "permutation[5, 4, 1, 2, 3]\n",
      "dist = 33\n",
      "permutation[5, 4, 1, 3, 2]\n",
      "dist = 39\n",
      "permutation[5, 4, 2, 1, 3]\n",
      "dist = 24\n",
      "permutation[5, 4, 2, 3, 1]\n",
      "dist = 31\n",
      "permutation[5, 4, 3, 1, 2]\n",
      "dist = 27\n",
      "permutation[5, 4, 3, 2, 1]\n",
      "dist = 28\n"
     ]
    },
    {
     "data": {
      "text/plain": [
       "(19, [1, 2, 4, 3, 5])"
      ]
     },
     "metadata": {},
     "output_type": "display_data"
    }
   ],
   "source": [
    "\"\"\"Brute force calculates TSP solution\"\"\"\n",
    "function brute_force_tsp(g::Graph, start_node::Any)\n",
    "    adjacency_list = adjacency_dict(g)\n",
    "    g_nodes = nodes(g)\n",
    "    nodes_perm = collect(permutations(collect(1:length(g_nodes))))\n",
    "    min_dist = Inf\n",
    "    min_perm = []\n",
    "    for perm in nodes_perm\n",
    "        dist = 0\n",
    "        for i in 1:length(perm)-1\n",
    "            dist += adjacency_list[perm[i]][perm[i+1]]\n",
    "        end\n",
    "        dist += adjacency_list[perm[end]][perm[1]]\n",
    "        println(\"permutation\", perm)\n",
    "        println(\"dist = \", dist)\n",
    "        if dist < min_dist\n",
    "            min_dist = dist\n",
    "            min_perm = perm\n",
    "        end\n",
    "        \n",
    "    end\n",
    "    return min_dist, min_perm\n",
    "end\n",
    "brute_force_tsp(tsp_test, \"a\")"
   ]
  },
  {
   "cell_type": "code",
   "execution_count": 32,
   "metadata": {},
   "outputs": [
    {
     "ename": "TypeError",
     "evalue": "TypeError: in typeassert, expected Type, got a value of type Int64",
     "output_type": "error",
     "traceback": [
      "TypeError: in typeassert, expected Type, got a value of type Int64\n",
      "\n",
      "Stacktrace:\n",
      " [1] top-level scope\n",
      "   @ ~/Documents/Phd docs/algo_class/mth6412b-starter-code/projet/phase3/phase3.ipynb:1"
     ]
    }
   ],
   "source": [
    "[15]"
   ]
  },
  {
   "cell_type": "code",
   "execution_count": 114,
   "metadata": {},
   "outputs": [
    {
     "data": {
      "text/plain": [
       "Dict{Any, Any} with 1 entry:\n",
       "  Set([2, 1]) => 2"
      ]
     },
     "metadata": {},
     "output_type": "display_data"
    }
   ],
   "source": [
    "a = Dict()\n",
    "a[Set([1,2])] = 1\n",
    "a[Set([2,1])] = 2\n",
    "a"
   ]
  }
 ],
 "metadata": {
  "kernelspec": {
   "display_name": "Julia 1.9.3",
   "language": "julia",
   "name": "julia-1.9"
  },
  "language_info": {
   "file_extension": ".jl",
   "mimetype": "application/julia",
   "name": "julia",
   "version": "1.9.3"
  }
 },
 "nbformat": 4,
 "nbformat_minor": 2
}
