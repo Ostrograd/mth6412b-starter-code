{
 "cells": [
  {
   "cell_type": "code",
   "execution_count": 61,
   "metadata": {},
   "outputs": [
    {
     "data": {
      "text/plain": [
       "path_compression!"
      ]
     },
     "metadata": {},
     "output_type": "display_data"
    }
   ],
   "source": [
    "using BenchmarkTools\n",
    "include(\"../phase1/node.jl\")\n",
    "include(\"../phase1/edges.jl\")\n",
    "include(\"../phase1/graph.jl\")\n",
    "include(\"../phase1/read_stsp.jl\")\n",
    "include(\"../phase2/comp_connexes.jl\")\n",
    "include(\"../phase1/main.jl\")\n",
    "include(\"../phase2/queue.jl\")\n",
    "include(\"../phase2/heuristics.jl\")"
   ]
  },
  {
   "cell_type": "code",
   "execution_count": 62,
   "metadata": {},
   "outputs": [
    {
     "name": "stdout",
     "output_type": "stream",
     "text": [
      "Node 1 has  rank 0 and 3 children.\n",
      "It has no parent.\n",
      "Its children are: \n",
      "     2\n",
      "     3\n",
      "     4\n",
      "Node 2 has  rank 0 and 0 children.\n",
      "Its parent is 1\n",
      "It has no children.\n",
      "Node 3 has  rank 0 and 0 children.\n",
      "Its parent is 1\n",
      "It has no children.\n",
      "Node 4 has  rank 0 and 2 children.\n",
      "Its parent is 1\n",
      "Its children are: \n",
      "     5\n",
      "     7\n",
      "Node 5 has  rank 0 and 1 children.\n",
      "Its parent is 4\n",
      "Its children are: \n",
      "     6\n",
      "Node 7 has  rank 0 and 0 children.\n",
      "Its parent is 4\n",
      "It has no children.\n",
      "Node 6 has  rank 0 and 0 children.\n",
      "Its parent is 5\n",
      "It has no children.\n"
     ]
    }
   ],
   "source": [
    "tree_root = TreeNode(\"1\", 0)\n",
    "child1 = TreeNode(\"2\", 0)\n",
    "child2 = TreeNode(\"3\", 0)\n",
    "child3 = TreeNode(\"4\", 0)\n",
    "child4 = TreeNode(\"5\",0)\n",
    "child5 = TreeNode(\"6\",0)\n",
    "child6 = TreeNode(\"7\",0)\n",
    "\n",
    "tree = Tree(\"test tree\", Vector{TreeNode{Int}}())\n",
    "\n",
    "first_row = [ child1, child2, child3]\n",
    "second_row = [child4, child6]\n",
    "add_node!(tree, tree_root)\n",
    "for child in first_row\n",
    "    add_node!(tree, child, parent = tree_root)\n",
    "end\n",
    "for child in second_row\n",
    "    add_node!(tree, child, parent = child3)\n",
    "end\n",
    "add_node!(tree, child5, parent = child4)\n",
    "show(tree)"
   ]
  },
  {
   "cell_type": "code",
   "execution_count": 63,
   "metadata": {},
   "outputs": [
    {
     "data": {
      "text/plain": [
       "TreeNode{Int64}(\"1\", 0, nothing, [2, 3, 4], 0, 1)"
      ]
     },
     "metadata": {},
     "output_type": "display_data"
    }
   ],
   "source": [
    "find_root(tree)"
   ]
  },
  {
   "cell_type": "code",
   "execution_count": 64,
   "metadata": {},
   "outputs": [
    {
     "data": {
      "text/plain": [
       "1-element Vector{Int64}:\n",
       " 7"
      ]
     },
     "metadata": {},
     "output_type": "display_data"
    }
   ],
   "source": [
    "children_loc(child4)"
   ]
  },
  {
   "cell_type": "code",
   "execution_count": 65,
   "metadata": {},
   "outputs": [
    {
     "name": "stdout",
     "output_type": "stream",
     "text": [
      "TreeNode{Int64}(\"1\", 0, nothing, [2, 3, 4], 0, 1)\n"
     ]
    }
   ],
   "source": [
    "println(tree_root)"
   ]
  },
  {
   "cell_type": "code",
   "execution_count": 66,
   "metadata": {},
   "outputs": [
    {
     "data": {
      "text/plain": [
       "TreeNode{Int64}(\"1\", 0, nothing, [2, 3], 1, 1)"
      ]
     },
     "metadata": {},
     "output_type": "display_data"
    }
   ],
   "source": [
    "n1= TreeNode(\"1\", 0)\n",
    "n2 = TreeNode(\"2\", 0)\n",
    "n3 = TreeNode(\"3\", 0)\n",
    "n4= TreeNode(\"4\", 0)\n",
    "t1 = Tree(\"test tree\" , Vector{TreeNode{Int}}())\n",
    "t1 = add_node!(t1, n1)\n",
    "t1 = add_node!(t1, n2, parent = n1)\n",
    "t1 = add_node!(t1, n3)\n",
    "t1 = add_node!(t1, n4, parent = n3)\n",
    "rank_union!(t1, n1, n3)\n"
   ]
  },
  {
   "cell_type": "code",
   "execution_count": 67,
   "metadata": {},
   "outputs": [
    {
     "name": "stdout",
     "output_type": "stream",
     "text": [
      "Node 1 has  rank 1 and 2 children.\n",
      "It has no parent.\n",
      "Its children are: \n",
      "     2\n",
      "     3\n",
      "Node 2 has  rank 0 and 0 children.\n",
      "Its parent is 1\n",
      "It has no children.\n",
      "Node 3 has  rank 0 and 1 children.\n",
      "Its parent is 1\n",
      "Its children are: \n",
      "     4\n",
      "Node 4 has  rank 0 and 0 children.\n",
      "Its parent is 3\n",
      "It has no children.\n"
     ]
    }
   ],
   "source": [
    "show(t1)"
   ]
  },
  {
   "cell_type": "code",
   "execution_count": 68,
   "metadata": {},
   "outputs": [
    {
     "data": {
      "text/plain": [
       "prims_algorithm"
      ]
     },
     "metadata": {},
     "output_type": "display_data"
    }
   ],
   "source": [
    "\"\"\"crée une liste d'adjacence a partir d'un graphe\"\"\"\n",
    "function adjacency_dict( graph::Graph) \n",
    "    #Dictionaire de adjacence\n",
    "    adj_dict = Dict()\n",
    "    #Dictionaire de correspondance entre les noeuds et les items de la file de priorite\n",
    "    correspondance_dict = Dict()\n",
    "    #Chaque noeud est une clef du dictionaire de adjacence\n",
    "    for (i, node) in enumerate(nodes(graph))\n",
    "        adj_dict[i] = Dict()\n",
    "        correspondance_dict[node] = i\n",
    "    end\n",
    "    #Ajoute les voisins de chaque noeud dans le dictionaire de adjacence\n",
    "    for edge in edges(graph)\n",
    "        node1, node2 = nodes(edge)\n",
    "        idx1 = correspondance_dict[node1]\n",
    "        idx2 = correspondance_dict[node2]\n",
    "        adj_dict[idx1][idx2] = weight(edge)\n",
    "        adj_dict[idx2][idx1] = weight(edge)\n",
    "    end\n",
    "    return adj_dict\n",
    "end\n",
    "\n",
    "\"\"\"Crée une file de priorite des arbres à partir d'un graphe. Le noeud de depart a une priorite de 0 et les autres ont une priorite de Inf\"\"\"\n",
    "function prims_priority_queue(graph::Graph{Y,T}, start_node_name::String) where {Y,T}\n",
    "    priority_queue = PriorityQueue{PriorityItem{TreeNode{Y}}}()\n",
    "    tree = Tree(name(graph), Vector{TreeNode{Y}}())\n",
    "    for node in nodes(graph)\n",
    "        if name(node) == start_node_name\n",
    "            blank_node = TreeNode(name(node), data(node))\n",
    "            priority_item = PriorityItem( 0 , blank_node)\n",
    "        else\n",
    "            blank_node = TreeNode(name(node), data(node))\n",
    "            priority_item = PriorityItem( Inf, blank_node)\n",
    "        end\n",
    "        add_node!(tree, blank_node)\n",
    "        push!(priority_queue, priority_item)\n",
    "    end\n",
    "    return priority_queue, tree\n",
    "end\n",
    "\n",
    "\"\"\"Implementation de l'algorithme de Prim\"\"\"\n",
    "function prims_algorithm(graph::Graph{Y,T}; start_node_name::Any = nothing) where {Y,T}\n",
    "    #initialisation\n",
    "    if isnothing(start_node_name)\n",
    "        start_node_name = name(nodes(graph)[1])\n",
    "    end\n",
    "    #initialisation de la file de priorite et du dictionaire d'adjacence\n",
    "    priority_queue, tree = prims_priority_queue(graph, start_node_name)\n",
    "    adjacency_list = adjacency_dict(graph)\n",
    "    #sauvegarde de la racine\n",
    "    root = poplast!(priority_queue)\n",
    "    priority_node = root\n",
    "    #boucle principale\n",
    "    while !is_empty(priority_queue)\n",
    "        for  (neighbor_idx, edge_weight) in adjacency_list[index(data(priority_node))]\n",
    "            #Met a jour la priorite du voisin si elle est dans le priority_que et elle est plus petite que la priorite actuelle\n",
    "            for item in priority_queue.items\n",
    "                #println(\"nodes(tree)[neighbor_idx] = \", nodes(tree)[neighbor_idx])\n",
    "                if index(data(item)) == neighbor_idx\n",
    "                    if  edge_weight < priority(item)\n",
    "                        change_parent!(tree, nodes(tree)[neighbor_idx], data(priority_node))\n",
    "                        change_rank!( nodes(tree)[neighbor_idx], edge_weight)\n",
    "                        priority!(item, edge_weight)\n",
    "                    end\n",
    "                break\n",
    "                end\n",
    "            end\n",
    "        end\n",
    "        #prend le noeud avec la plus petite priorite\n",
    "        priority_node = poplast!(priority_queue)         \n",
    "    end\n",
    "    return tree, data(root)\n",
    "end"
   ]
  },
  {
   "cell_type": "code",
   "execution_count": 69,
   "metadata": {},
   "outputs": [],
   "source": [
    "graphe_test = Graph(\"Test\",Node{Vector{Float64}}[],Edge{Int,Vector{Float64}}[])\n",
    "\n",
    "#Nodes \n",
    "nodea = Node(\"a\",[0.])\n",
    "nodeb = Node(\"b\",[0.])\n",
    "nodec = Node(\"c\",[0.])\n",
    "noded = Node(\"d\",[0.])\n",
    "nodee = Node(\"e\",[0.])\n",
    "nodef = Node(\"f\",[0.])\n",
    "nodeg = Node(\"g\",[0.])\n",
    "nodeh = Node(\"h\",[0.])\n",
    "nodei = Node(\"i\",[0.])\n",
    "node_list = [nodea,nodeb,nodec, noded,nodee, nodef, \n",
    "                nodeg, nodeh, nodei]\n",
    "\n",
    "#Edges\n",
    "edge1 = Edge(nodea,nodeb, 4)\n",
    "edge2 = Edge(nodea,nodeh, 8)\n",
    "edge3 = Edge(nodeb, nodeh, 11)\n",
    "edge4 = Edge(nodeb, nodec, 8)\n",
    "edge5 = Edge(nodeh, nodei, 7)\n",
    "edge6 = Edge(nodeh, nodeg, 1)\n",
    "edge7 = Edge(nodeg, nodei, 6)\n",
    "edge8 = Edge(nodeg, nodef, 2)\n",
    "edge9 = Edge(nodec, nodef, 4)\n",
    "edge10 = Edge(nodei, nodec, 2)\n",
    "edge11 = Edge(nodef, nodee, 10)\n",
    "edge12 = Edge(nodee, noded, 9)\n",
    "edge13 = Edge(nodec,noded, 7)\n",
    "edge14 = Edge(noded, nodef, 14)\n",
    "edge_list = [edge1, edge2, edge3, edge4, edge5, edge6,\n",
    "                edge7, edge8, edge9, edge10, edge11,\n",
    "                edge12, edge13, edge14]\n",
    "\n",
    "##Construction du graphe\n",
    "for i in node_list\n",
    "    add_node!(graphe_test,i)\n",
    "end\n",
    "for i in edge_list\n",
    "    add_edge!(graphe_test, i)\n",
    "end\n"
   ]
  },
  {
   "cell_type": "code",
   "execution_count": 75,
   "metadata": {},
   "outputs": [
    {
     "data": {
      "text/plain": [
       "BenchmarkTools.Trial: 10000 samples with 1 evaluation.\n",
       " Range \u001b[90m(\u001b[39m\u001b[36m\u001b[1mmin\u001b[22m\u001b[39m … \u001b[35mmax\u001b[39m\u001b[90m):  \u001b[39m\u001b[36m\u001b[1m21.875 μs\u001b[22m\u001b[39m … \u001b[35m 2.847 ms\u001b[39m  \u001b[90m┊\u001b[39m GC \u001b[90m(\u001b[39mmin … max\u001b[90m): \u001b[39m0.00% … 98.26%\n",
       " Time  \u001b[90m(\u001b[39m\u001b[34m\u001b[1mmedian\u001b[22m\u001b[39m\u001b[90m):     \u001b[39m\u001b[34m\u001b[1m23.416 μs              \u001b[22m\u001b[39m\u001b[90m┊\u001b[39m GC \u001b[90m(\u001b[39mmedian\u001b[90m):    \u001b[39m0.00%\n",
       " Time  \u001b[90m(\u001b[39m\u001b[32m\u001b[1mmean\u001b[22m\u001b[39m ± \u001b[32mσ\u001b[39m\u001b[90m):   \u001b[39m\u001b[32m\u001b[1m25.375 μs\u001b[22m\u001b[39m ± \u001b[32m62.576 μs\u001b[39m  \u001b[90m┊\u001b[39m GC \u001b[90m(\u001b[39mmean ± σ\u001b[90m):  \u001b[39m5.45% ±  2.20%\n",
       "\n",
       "  \u001b[39m \u001b[39m \u001b[39m \u001b[39m \u001b[39m▄\u001b[39m▆\u001b[39m▇\u001b[39m█\u001b[39m█\u001b[34m█\u001b[39m\u001b[39m▇\u001b[39m▆\u001b[39m▅\u001b[39m▅\u001b[39m▄\u001b[39m▄\u001b[39m▃\u001b[39m▂\u001b[39m▂\u001b[39m▂\u001b[32m▁\u001b[39m\u001b[39m▁\u001b[39m▁\u001b[39m \u001b[39m \u001b[39m \u001b[39m▁\u001b[39m \u001b[39m \u001b[39m \u001b[39m \u001b[39m \u001b[39m \u001b[39m \u001b[39m \u001b[39m \u001b[39m \u001b[39m \u001b[39m \u001b[39m \u001b[39m \u001b[39m \u001b[39m \u001b[39m \u001b[39m \u001b[39m \u001b[39m \u001b[39m \u001b[39m \u001b[39m \u001b[39m▁\u001b[39m▁\u001b[39m▁\u001b[39m \u001b[39m \u001b[39m \u001b[39m \u001b[39m \u001b[39m \u001b[39m \u001b[39m▃\n",
       "  \u001b[39m▃\u001b[39m▄\u001b[39m▇\u001b[39m█\u001b[39m█\u001b[39m█\u001b[39m█\u001b[39m█\u001b[39m█\u001b[34m█\u001b[39m\u001b[39m█\u001b[39m█\u001b[39m█\u001b[39m█\u001b[39m█\u001b[39m█\u001b[39m█\u001b[39m█\u001b[39m█\u001b[39m█\u001b[32m█\u001b[39m\u001b[39m█\u001b[39m█\u001b[39m█\u001b[39m▇\u001b[39m█\u001b[39m█\u001b[39m█\u001b[39m█\u001b[39m█\u001b[39m▇\u001b[39m█\u001b[39m▇\u001b[39m▇\u001b[39m█\u001b[39m▇\u001b[39m▆\u001b[39m▇\u001b[39m▆\u001b[39m▇\u001b[39m▄\u001b[39m▁\u001b[39m▅\u001b[39m▄\u001b[39m▆\u001b[39m▆\u001b[39m▇\u001b[39m▇\u001b[39m▇\u001b[39m█\u001b[39m█\u001b[39m█\u001b[39m█\u001b[39m█\u001b[39m█\u001b[39m█\u001b[39m▆\u001b[39m▇\u001b[39m▇\u001b[39m \u001b[39m█\n",
       "  21.9 μs\u001b[90m      \u001b[39m\u001b[90mHistogram: \u001b[39m\u001b[90m\u001b[1mlog(\u001b[22m\u001b[39m\u001b[90mfrequency\u001b[39m\u001b[90m\u001b[1m)\u001b[22m\u001b[39m\u001b[90m by time\u001b[39m        32 μs \u001b[0m\u001b[1m<\u001b[22m\n",
       "\n",
       " Memory estimate\u001b[90m: \u001b[39m\u001b[33m24.94 KiB\u001b[39m, allocs estimate\u001b[90m: \u001b[39m\u001b[33m381\u001b[39m."
      ]
     },
     "metadata": {},
     "output_type": "display_data"
    }
   ],
   "source": [
    "priority_queue, tree = prims_priority_queue(graphe_test, \"a\")\n",
    "\n",
    "@benchmark p_tree, root = prims_algorithm(graphe_test, start_node_name = \"a\")"
   ]
  },
  {
   "cell_type": "code",
   "execution_count": 76,
   "metadata": {},
   "outputs": [
    {
     "name": "stdout",
     "output_type": "stream",
     "text": [
      "  0.000111 seconds (383 allocations: 25.000 KiB)\n"
     ]
    },
    {
     "data": {
      "text/plain": [
       "(Tree{Vector{Float64}}(\"Test\", TreeNode{Vector{Float64}}[TreeNode{Vector{Float64}}(\"a\", [0.0], nothing, [2], 0, 1), TreeNode{Vector{Float64}}(\"b\", [0.0], 1, [3], 4, 2), TreeNode{Vector{Float64}}(\"c\", [0.0], 2, [4, 6, 9], 8, 3), TreeNode{Vector{Float64}}(\"d\", [0.0], 3, [5], 7, 4), TreeNode{Vector{Float64}}(\"e\", [0.0], 4, Int64[], 9, 5), TreeNode{Vector{Float64}}(\"f\", [0.0], 3, [7], 4, 6), TreeNode{Vector{Float64}}(\"g\", [0.0], 6, [8], 2, 7), TreeNode{Vector{Float64}}(\"h\", [0.0], 7, Int64[], 1, 8), TreeNode{Vector{Float64}}(\"i\", [0.0], 3, Int64[], 2, 9)]), TreeNode{Vector{Float64}}(\"a\", [0.0], nothing, [2], 0, 1))"
      ]
     },
     "metadata": {},
     "output_type": "display_data"
    }
   ],
   "source": [
    "@time p_tree1, root1 = prims_algorithm(graphe_test, start_node_name = \"a\")"
   ]
  },
  {
   "cell_type": "code",
   "execution_count": 77,
   "metadata": {},
   "outputs": [
    {
     "name": "stdout",
     "output_type": "stream",
     "text": [
      "Reading of header : ✓\n",
      "Reading of nodes : ✓\n",
      "Reading of edges : ✓\n",
      "running Prim's algorithm on swiss42\n",
      "  0.001385 seconds (8.58 k allocations: 379.781 KiB)"
     ]
    },
    {
     "name": "stdout",
     "output_type": "stream",
     "text": [
      "\n"
     ]
    },
    {
     "data": {
      "text/plain": [
       "1079.0"
      ]
     },
     "metadata": {},
     "output_type": "display_data"
    }
   ],
   "source": [
    "swiss_42_graph, swiss_42_nodes = graph_from_tsp(\"../../instances/stsp/swiss42.tsp\",\"graphe1\")\n",
    "println(\"running Prim's algorithm on swiss42\")\n",
    "@time swiss_42_tree, root2 = prims_algorithm(swiss_42_graph)\n",
    "swiss_42_graph = tree_to_graph(swiss_42_tree, root2)\n",
    "sum_of_weights(swiss_42_graph)"
   ]
  },
  {
   "cell_type": "code",
   "execution_count": 79,
   "metadata": {},
   "outputs": [
    {
     "name": "stdout",
     "output_type": "stream",
     "text": [
      "Reading of header : ✓\n",
      "Reading of nodes : ✓\n",
      "Reading of edges : ✓\n",
      "running Prim's algorithm\n",
      "  0.000698 seconds (4.42 k allocations: 214.234 KiB)\n"
     ]
    },
    {
     "data": {
      "text/plain": [
       "1557.0"
      ]
     },
     "metadata": {},
     "output_type": "display_data"
    }
   ],
   "source": [
    "graphe1, graphe1_nodes = graph_from_tsp(\"../../instances/stsp/bays29.tsp\",\"graphe1\")\n",
    "println(\"running Prim's algorithm\")\n",
    "@time bays_29_tree, root3 = prims_algorithm(graphe1)\n",
    "bays_29_graph = tree_to_graph(bays_29_tree, root3)\n",
    "\n",
    "sum_of_weights(bays_29_graph)"
   ]
  }
 ],
 "metadata": {
  "kernelspec": {
   "display_name": "Julia 1.9.3",
   "language": "julia",
   "name": "julia-1.9"
  },
  "language_info": {
   "file_extension": ".jl",
   "mimetype": "application/julia",
   "name": "julia",
   "version": "1.9.3"
  }
 },
 "nbformat": 4,
 "nbformat_minor": 2
}
